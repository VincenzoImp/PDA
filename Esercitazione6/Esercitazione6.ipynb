{
 "cells": [
  {
   "attachments": {},
   "cell_type": "markdown",
   "metadata": {},
   "source": [
    "# Esercitazione 6"
   ]
  },
  {
   "attachments": {},
   "cell_type": "markdown",
   "metadata": {},
   "source": [
    "## Es 1. Un albero minimo di copertura non contiene mai l'arco pesante di un qualche ciclo"
   ]
  },
  {
   "attachments": {},
   "cell_type": "markdown",
   "metadata": {},
   "source": [
    "**Testo**"
   ]
  },
  {
   "attachments": {},
   "cell_type": "markdown",
   "metadata": {},
   "source": [
    "Sia e un arco di peso massimo su un ciclo del grafo connesso G = (V,E). Dimostrare che esiste un minimo albero di copertura di G' = (V,E-{e}) che è anche un minimo albero di copertura di G. Ovvero, esiste un minimo albero di copertura di G che non include e."
   ]
  },
  {
   "attachments": {},
   "cell_type": "markdown",
   "metadata": {},
   "source": [
    "**Soluzione**"
   ]
  },
  {
   "attachments": {},
   "cell_type": "markdown",
   "metadata": {},
   "source": [
    "Sia A un qualsiasi taglio che fa sì che alcuni nodi del ciclo si trovino su un lato del taglio e alcuni nodi del ciclo sull'altro. Per uno qualsiasi di questi tagli, sappiamo che l'arco e non è un arco leggero per questo taglio. Dal momento che tutti gli altri tagli non avranno l'arco e che lo attraversa, non avremo nemmeno che l'arco è leggero per nessuno di questi tagli."
   ]
  },
  {
   "attachments": {},
   "cell_type": "markdown",
   "metadata": {},
   "source": [
    "# Es 2. Cammini minimi su grafo con archi gialli (di costo 0) e rossi (di costo 1)"
   ]
  },
  {
   "attachments": {},
   "cell_type": "markdown",
   "metadata": {},
   "source": [
    "**Testo**"
   ]
  },
  {
   "attachments": {},
   "cell_type": "markdown",
   "metadata": {},
   "source": [
    "Scrivere una funzione che calcola il cammino minimo in un grafo con archi gialli (costo 0) e rossi (costo 1). La funzione prende in input il grafo e il nodo di partenza per il cammino minimo, e restituisce il costo minimo del cammino dal nodo di partenza a ogni altro nodo."
   ]
  },
  {
   "attachments": {},
   "cell_type": "markdown",
   "metadata": {},
   "source": [
    "**Idea**"
   ]
  },
  {
   "attachments": {},
   "cell_type": "markdown",
   "metadata": {},
   "source": [
    "Poiché gli archi gialli hanno costo zero, è sempre conveniente scegliere un arco giallo piuttosto che un arco rosso. Pertanto, un cammino minimo in questo tipo di grafo sarà sempre costituito esclusivamente da archi gialli.\n",
    "\\\n",
    "Se non esiste un cammino solo con archi gialli, allora il cammino minimo dovrà includere anche alcuni archi rossi. In questo caso, l'obiettivo sarà quello di minimizzare il numero di archi rossi necessari per raggiungere la destinazione."
   ]
  },
  {
   "attachments": {},
   "cell_type": "markdown",
   "metadata": {},
   "source": [
    "**Soluzione**"
   ]
  },
  {
   "cell_type": "code",
   "execution_count": 1,
   "metadata": {},
   "outputs": [],
   "source": [
    "import heapq\n",
    "\n",
    "def dijkstra(graph, start):\n",
    "    \"\"\"\n",
    "    Calcola il cammino minimo in un grafo con archi gialli (costo 0) e rossi (costo 1) usando l'algoritmo di Dijkstra.\n",
    "\n",
    "    Args:\n",
    "        graph: il grafo rappresentato come un dizionario di dizionari, dove graph[u][v] è il costo dell'arco che va da u a v.\n",
    "        start: il nodo di partenza per il cammino minimo.\n",
    "\n",
    "    Returns:\n",
    "        Un dizionario con i nodi del grafo come chiavi e il costo minimo del cammino dal nodo di partenza a ogni altro nodo come valore.\n",
    "    \"\"\"\n",
    "    distances = {node: float('inf') for node in graph}  # Inizializza tutti i nodi con la distanza infinita\n",
    "    distances[start] = 0  # Imposta la distanza del nodo di partenza a 0\n",
    "    heap = [(0, start)]  # Crea una coda con il nodo di partenza e la sua distanza (0)\n",
    "\n",
    "    while heap:\n",
    "        (distance, current_node) = heapq.heappop(heap)  # Prende il nodo con la distanza minima\n",
    "        if distance > distances[current_node]:\n",
    "            continue  # Se la distanza è maggiore della distanza attuale, passa al prossimo nodo\n",
    "\n",
    "        for neighbor, cost in graph[current_node].items():\n",
    "            if cost == 0:  # Se l'arco è giallo (costo 0)\n",
    "                new_distance = distance\n",
    "            else:  # Se l'arco è rosso (costo 1)\n",
    "                new_distance = distance + cost\n",
    "\n",
    "            if new_distance < distances[neighbor]:\n",
    "                distances[neighbor] = new_distance  # Aggiorna la distanza del vicino\n",
    "                heapq.heappush(heap, (new_distance, neighbor))  # Aggiunge il vicino alla coda\n",
    "\n",
    "    return distances"
   ]
  },
  {
   "attachments": {},
   "cell_type": "markdown",
   "metadata": {},
   "source": [
    "**Esecuzione**"
   ]
  },
  {
   "cell_type": "code",
   "execution_count": 2,
   "metadata": {},
   "outputs": [
    {
     "data": {
      "text/plain": [
       "{'A': 1, 'B': 0, 'C': 0, 'D': 1}"
      ]
     },
     "execution_count": 2,
     "metadata": {},
     "output_type": "execute_result"
    }
   ],
   "source": [
    "graph = {\n",
    "    'A': {'B': 1, 'C': 1, 'D': 0},\n",
    "    'B': {'A': 1, 'C': 0},\n",
    "    'C': {'A': 1, 'B': 0},\n",
    "    'D': {'A': 0}\n",
    "}\n",
    "dijkstra(graph, 'C')"
   ]
  },
  {
   "attachments": {},
   "cell_type": "markdown",
   "metadata": {},
   "source": [
    "# Es 3. Algoritmo per determinare se un grafo diretto è semi-connesso"
   ]
  },
  {
   "attachments": {},
   "cell_type": "markdown",
   "metadata": {},
   "source": [
    "**Testo**"
   ]
  },
  {
   "attachments": {},
   "cell_type": "markdown",
   "metadata": {},
   "source": [
    "Un grafo diretto G=(V,E) è semi-connesso se u⇝v implica che G contiene al massimo un percorso semplice da u a v per tutti i vertici u,v ∈ V. Fornite un algoritmo efficiente per determinare se un grafo diretto è singolarmente connesso o meno."
   ]
  },
  {
   "attachments": {},
   "cell_type": "markdown",
   "metadata": {},
   "source": [
    "**Idea**"
   ]
  },
  {
   "attachments": {},
   "cell_type": "markdown",
   "metadata": {},
   "source": [
    "Questo può essere fatto in tempo O(∣V∣∣E∣). Per farlo, si esegue prima un ordinamento topologico dei vertici. Poi, per ogni vertice, si avrà un elenco dei suoi antenati in-degree 0. Si calcolano questi elenchi per ogni nodo nell'ordine che parte da quelli precedenti dal punto di vista topologico.\n",
    "\\\n",
    "Se un vertice ha lo stesso grado 0 nelle liste di due dei suoi genitori immediati, sappiamo che il grafo non è singolarmente connesso. Se invece, a ogni passo, tutti i genitori hanno come antenati insiemi disgiunti di vertici di grado 0, il grafo è singolarmente connesso. Poiché, per ogni vertice, la quantità di tempo richiesta è limitata dal numero di vertici moltiplicato per l'in-degree di quel particolare vertice, il tempo di esecuzione totale è limitato da O(∣V∣∣E∣)."
   ]
  },
  {
   "attachments": {},
   "cell_type": "markdown",
   "metadata": {},
   "source": [
    "**Soluzione**"
   ]
  },
  {
   "cell_type": "code",
   "execution_count": 3,
   "metadata": {},
   "outputs": [],
   "source": [
    "from collections import defaultdict\n",
    "\n",
    "def is_singly_connected(graph):\n",
    "    # 1. Ordinamento topologico\n",
    "    topo_order = topological_sort(graph)\n",
    "    # 2. Dizionario degli antenati in-degree 0\n",
    "    ancestors = defaultdict(set)\n",
    "    # 3. Calcolo degli antenati in-degree 0 per ogni vertice\n",
    "    visited = set()\n",
    "    for v in topo_order:\n",
    "        ancestors_v = set()\n",
    "        for p in graph[v][\"parents\"]:\n",
    "            if p not in visited:\n",
    "                visited |= set(find_zero_indegree_ancestors(p, graph, visited, ancestors))\n",
    "            ancestors_v |= ancestors[p]\n",
    "        if any(ancestors_v & ancestors[p] for p in graph[v][\"parents\"]):\n",
    "            return False  # Grafo non singolarmente connesso\n",
    "        visited.add(v)\n",
    "        ancestors[v] = ancestors_v\n",
    "    # 4. Controllo se tutti i vertici sono stati visitati\n",
    "    return len(visited) == len(graph)\n",
    "\n",
    "def topological_sort(graph):\n",
    "    in_degree = {v: 0 for v in graph}\n",
    "    for v in graph:\n",
    "        for p in graph[v][\"parents\"]:\n",
    "            in_degree[p] += 1\n",
    "    queue = [v for v in graph if in_degree[v] == 0]\n",
    "    topo_order = []\n",
    "    while queue:\n",
    "        v = queue.pop(0)\n",
    "        topo_order.append(v)\n",
    "        for c in graph[v][\"children\"]:\n",
    "            in_degree[c] -= 1\n",
    "            if in_degree[c] == 0:\n",
    "                queue.append(c)\n",
    "    return topo_order\n",
    "\n",
    "def find_zero_indegree_ancestors(v, graph, visited, ancestors):\n",
    "    if v in visited:\n",
    "        return []\n",
    "    visited.add(v)\n",
    "    ancestors_v = set()\n",
    "    for p in graph[v][\"parents\"]:\n",
    "        visited |= set(find_zero_indegree_ancestors(p, graph, visited, ancestors))\n",
    "        ancestors_v |= ancestors[p]\n",
    "    if graph[v][\"in_degree\"] == 0:\n",
    "        ancestors_v.add(v)\n",
    "    ancestors[v] = ancestors_v\n",
    "    return ancestors_v"
   ]
  },
  {
   "attachments": {},
   "cell_type": "markdown",
   "metadata": {},
   "source": [
    "**Esecuzione**"
   ]
  },
  {
   "cell_type": "code",
   "execution_count": 4,
   "metadata": {},
   "outputs": [
    {
     "data": {
      "text/plain": [
       "False"
      ]
     },
     "execution_count": 4,
     "metadata": {},
     "output_type": "execute_result"
    }
   ],
   "source": [
    "graph = {\n",
    "    \"A\": {\"parents\": [], \"children\": [\"B\", \"C\"], \"in_degree\": 0},\n",
    "    \"B\": {\"parents\": [\"A\"], \"children\": [\"D\"], \"in_degree\": 1},\n",
    "    \"C\": {\"parents\": [\"A\"], \"children\": [\"D\"], \"in_degree\": 1},\n",
    "    \"D\": {\"parents\": [\"B\", \"C\"], \"children\": [], \"in_degree\": 2}\n",
    "}\n",
    "is_singly_connected(graph)"
   ]
  },
  {
   "attachments": {},
   "cell_type": "markdown",
   "metadata": {},
   "source": [
    "# Es 4. Selezionare il k-esimo elemento nell'unione di due vettori ordinati"
   ]
  },
  {
   "attachments": {},
   "cell_type": "markdown",
   "metadata": {},
   "source": [
    "**Testo**"
   ]
  },
  {
   "attachments": {},
   "cell_type": "markdown",
   "metadata": {},
   "source": [
    "Date due matrici ordinate di dimensione m e n rispettivamente, il compito è quello di trovare l'elemento che si trova nella posizione k della matrice ordinata finale."
   ]
  },
  {
   "attachments": {},
   "cell_type": "markdown",
   "metadata": {},
   "source": [
    "**Idea O(m+n)**"
   ]
  },
  {
   "attachments": {},
   "cell_type": "markdown",
   "metadata": {},
   "source": [
    "Dato che abbiamo due array ordinati, possiamo usare la tecnica dell'unione per ottenere l'array finale unito. A partire da questo, si passa semplicemente all'indice k."
   ]
  },
  {
   "attachments": {},
   "cell_type": "markdown",
   "metadata": {},
   "source": [
    "**Soluzione O(m+n)**"
   ]
  },
  {
   "cell_type": "code",
   "execution_count": 5,
   "metadata": {},
   "outputs": [],
   "source": [
    "def kth(arr1, arr2, len_arr1, len_arr2, k):\n",
    "\tsorted_arr = [0] * (len_arr1 + len_arr2)\n",
    "\ti = 0\n",
    "\tj = 0\n",
    "\td = 0\n",
    "\twhile (i < len_arr1 and j < len_arr2):\n",
    "\t\tif (arr1[i] < arr2[j]):\n",
    "\t\t\tsorted_arr[d] = arr1[i]\n",
    "\t\t\ti += 1\n",
    "\t\telse:\n",
    "\t\t\tsorted_arr[d] = arr2[j]\n",
    "\t\t\tj += 1\n",
    "\t\td += 1\n",
    "\twhile (i < len_arr1):\n",
    "\t\tsorted_arr[d] = arr1[i]\n",
    "\t\td += 1\n",
    "\t\ti += 1\n",
    "\twhile (j < len_arr2):\n",
    "\t\tsorted_arr[d] = arr2[j]\n",
    "\t\td += 1\n",
    "\t\tj += 1\n",
    "\treturn sorted_arr[k - 1]"
   ]
  },
  {
   "attachments": {},
   "cell_type": "markdown",
   "metadata": {},
   "source": [
    "**Esecuzione O(m+n)**"
   ]
  },
  {
   "cell_type": "code",
   "execution_count": 6,
   "metadata": {},
   "outputs": [
    {
     "data": {
      "text/plain": [
       "6"
      ]
     },
     "execution_count": 6,
     "metadata": {},
     "output_type": "execute_result"
    }
   ],
   "source": [
    "arr1 = [2, 3, 6, 7, 9]\n",
    "arr2 = [1, 4, 8, 10]\n",
    "len_arr1 = 5\n",
    "len_arr2 = 4\n",
    "k = 5\n",
    "kth(arr1, arr2, len_arr1, len_arr2, k)"
   ]
  },
  {
   "attachments": {},
   "cell_type": "markdown",
   "metadata": {},
   "source": [
    "**Idea O(log m + log n)**"
   ]
  },
  {
   "attachments": {},
   "cell_type": "markdown",
   "metadata": {},
   "source": [
    "Se il metodo precedente funziona, possiamo rendere il nostro algoritmo più efficiente? La risposta è sì. Utilizzando un approccio divide et impera, simile a quello usato nella ricerca binaria, possiamo cercare di trovare il kesimo elemento in modo più efficiente.\n",
    "\n",
    "Confrontiamo gli elementi centrali degli array arr1 e arr2, chiamiamo questi indici rispettivamente mid1 e mid2. Supponiamo che arr1[mid1] > arr2[mid2], quindi chiaramente gli elementi dopo mid2 non possono essere l'elemento richiesto. Impostiamo che l'ultimo elemento di arr2 sia arr2[mid2].\n",
    "In questo modo, si definisce un nuovo sottoproblema con la metà delle dimensioni di uno degli array."
   ]
  },
  {
   "attachments": {},
   "cell_type": "markdown",
   "metadata": {},
   "source": [
    "**Soluzione O(log m + log n)**"
   ]
  },
  {
   "cell_type": "code",
   "execution_count": 7,
   "metadata": {},
   "outputs": [],
   "source": [
    "def kth(arr1, arr2, len_arr1, len_arr2, k):\n",
    "\tif len_arr1 == 1 or len_arr2 == 1:\n",
    "\t\tif len_arr2 == 1:\n",
    "\t\t\tarr2, arr1 = arr1, arr2\n",
    "\t\t\tlen_arr2 = len_arr1\n",
    "\t\tif k == 1:\n",
    "\t\t\treturn min(arr1[0], arr2[0])\n",
    "\t\telif k == len_arr2 + 1:\n",
    "\t\t\treturn max(arr1[0], arr2[0])\n",
    "\t\telse:\n",
    "\t\t\tif arr2[k - 1] < arr1[0]:\n",
    "\t\t\t\treturn arr2[k - 1]\n",
    "\t\t\telse:\n",
    "\t\t\t\treturn max(arr1[0], arr2[k - 2])\n",
    "\tmid1 = (len_arr1 - 1)//2\n",
    "\tmid2 = (len_arr2 - 1)//2\n",
    "\tif mid1+mid2+1 < k:\n",
    "\t\tif arr1[mid1] < arr2[mid2]:\n",
    "\t\t\treturn kth(arr1[mid1 + 1:], arr2, len_arr1 - mid1 - 1, len_arr2, k - mid1 - 1)\n",
    "\t\telse:\n",
    "\t\t\treturn kth(arr1, arr2[mid2 + 1:], len_arr1, len_arr2 - mid2 - 1, k - mid2 - 1)\n",
    "\telse:\n",
    "\t\tif arr1[mid1] < arr2[mid2]:\n",
    "\t\t\treturn kth(arr1, arr2[:mid2 + 1], len_arr1, mid2 + 1, k)\n",
    "\t\telse:\n",
    "\t\t\treturn kth(arr1[:mid1 + 1], arr2, mid1 + 1, len_arr2, k)"
   ]
  },
  {
   "attachments": {},
   "cell_type": "markdown",
   "metadata": {},
   "source": [
    "**Esecuzione O(log m + log n)**"
   ]
  },
  {
   "cell_type": "code",
   "execution_count": 8,
   "metadata": {},
   "outputs": [
    {
     "data": {
      "text/plain": [
       "6"
      ]
     },
     "execution_count": 8,
     "metadata": {},
     "output_type": "execute_result"
    }
   ],
   "source": [
    "arr1 = [2, 3, 6, 7, 9]\n",
    "arr2 = [1, 4, 8, 10]\n",
    "len_arr1 = 5\n",
    "len_arr2 = 4\n",
    "k = 5\n",
    "kth(arr1, arr2, len_arr1, len_arr2, k)"
   ]
  }
 ],
 "metadata": {
  "kernelspec": {
   "display_name": "stable",
   "language": "python",
   "name": "python3"
  },
  "language_info": {
   "codemirror_mode": {
    "name": "ipython",
    "version": 3
   },
   "file_extension": ".py",
   "mimetype": "text/x-python",
   "name": "python",
   "nbconvert_exporter": "python",
   "pygments_lexer": "ipython3",
   "version": "3.9.16"
  },
  "orig_nbformat": 4
 },
 "nbformat": 4,
 "nbformat_minor": 2
}
