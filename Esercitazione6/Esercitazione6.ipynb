{
 "cells": [
  {
   "attachments": {},
   "cell_type": "markdown",
   "metadata": {},
   "source": [
    "# Esercitazione 6"
   ]
  },
  {
   "attachments": {},
   "cell_type": "markdown",
   "metadata": {},
   "source": [
    "## Es 1. Un albero minimo di copertura non contiene mai l'arco pesante di un qualche ciclo"
   ]
  },
  {
   "attachments": {},
   "cell_type": "markdown",
   "metadata": {},
   "source": [
    "**Testo**"
   ]
  },
  {
   "attachments": {},
   "cell_type": "markdown",
   "metadata": {},
   "source": [
    "Sia e un arco di peso massimo su un ciclo del grafo connesso G = (V,E). Dimostrare che esiste un minimo albero di copertura di G' = (V,E-{e}) che è anche un minimo albero di copertura di G. Ovvero, esiste un minimo albero di copertura di G che non include e."
   ]
  },
  {
   "attachments": {},
   "cell_type": "markdown",
   "metadata": {},
   "source": [
    "**Soluzione**"
   ]
  },
  {
   "attachments": {},
   "cell_type": "markdown",
   "metadata": {},
   "source": [
    "Sia A un qualsiasi taglio che fa sì che alcuni nodi del ciclo si trovino su un lato del taglio e alcuni nodi del ciclo sull'altro. Per uno qualsiasi di questi tagli, sappiamo che l'arco e non è un arco leggero per questo taglio. Dal momento che tutti gli altri tagli non avranno l'arco e che lo attraversa, non avremo nemmeno che l'arco è leggero per nessuno di questi tagli."
   ]
  },
  {
   "attachments": {},
   "cell_type": "markdown",
   "metadata": {},
   "source": [
    "# Es 2. Cammini minimi su grafo con archi gialli (di costo 0) e rossi (di costo 1)"
   ]
  },
  {
   "attachments": {},
   "cell_type": "markdown",
   "metadata": {},
   "source": [
    "**Testo**"
   ]
  },
  {
   "attachments": {},
   "cell_type": "markdown",
   "metadata": {},
   "source": []
  },
  {
   "attachments": {},
   "cell_type": "markdown",
   "metadata": {},
   "source": [
    "**Soluzione**"
   ]
  },
  {
   "attachments": {},
   "cell_type": "markdown",
   "metadata": {},
   "source": []
  },
  {
   "attachments": {},
   "cell_type": "markdown",
   "metadata": {},
   "source": [
    "# Es 3. Algoritmo per determinare se un grafo diretto è semi-connesso"
   ]
  },
  {
   "attachments": {},
   "cell_type": "markdown",
   "metadata": {},
   "source": [
    "**Testo**"
   ]
  },
  {
   "attachments": {},
   "cell_type": "markdown",
   "metadata": {},
   "source": [
    "Un grafo diretto G=(V,E) è semi-connesso se u⇝v implica che G contiene al massimo un percorso semplice da u a v per tutti i vertici u,v ∈ V. Fornite un algoritmo efficiente per determinare se un grafo diretto è singolarmente connesso o meno."
   ]
  },
  {
   "attachments": {},
   "cell_type": "markdown",
   "metadata": {},
   "source": [
    "**Soluzione**"
   ]
  },
  {
   "attachments": {},
   "cell_type": "markdown",
   "metadata": {},
   "source": [
    "Questo può essere fatto in tempo O(∣V∣∣E∣). Per farlo, si esegue prima un ordinamento topologico dei vertici. Poi, per ogni vertice, si avrà un elenco dei suoi antenati in-degree 0. Si calcolano questi elenchi per ogni nodo nell'ordine che parte da quelli precedenti dal punto di vista topologico.\n",
    "\\\n",
    "Se un vertice ha lo stesso grado 0 nelle liste di due dei suoi genitori immediati, sappiamo che il grafo non è singolarmente connesso. Se invece, a ogni passo, tutti i genitori hanno come antenati insiemi disgiunti di vertici di grado 0, il grafo è singolarmente connesso. Poiché, per ogni vertice, la quantità di tempo richiesta è limitata dal numero di vertici moltiplicato per l'in-degree di quel particolare vertice, il tempo di esecuzione totale è limitato da O(∣V∣∣E∣)."
   ]
  },
  {
   "attachments": {},
   "cell_type": "markdown",
   "metadata": {},
   "source": [
    "# Es 4. Selezionare il k-esimo elemento nell'unione di due vettori ordinati"
   ]
  },
  {
   "attachments": {},
   "cell_type": "markdown",
   "metadata": {},
   "source": [
    "**Testo**"
   ]
  },
  {
   "attachments": {},
   "cell_type": "markdown",
   "metadata": {},
   "source": [
    "Given two sorted arrays of size m and n respectively, you are tasked with finding the element that would be at the k’th position of the final sorted array."
   ]
  },
  {
   "attachments": {},
   "cell_type": "markdown",
   "metadata": {},
   "source": [
    "**Idea O(m+n)**"
   ]
  },
  {
   "attachments": {},
   "cell_type": "markdown",
   "metadata": {},
   "source": [
    "Since we are given two sorted arrays, we can use the merging technique to get the final merged array. From this, we simply go to the k’th index."
   ]
  },
  {
   "attachments": {},
   "cell_type": "markdown",
   "metadata": {},
   "source": [
    "**Soluzione O(m+n)**"
   ]
  },
  {
   "cell_type": "code",
   "execution_count": 7,
   "metadata": {},
   "outputs": [],
   "source": [
    "def kth(arr1, arr2, len_arr1, len_arr2, k):\n",
    "\tsorted_arr = [0] * (len_arr1 + len_arr2)\n",
    "\ti = 0\n",
    "\tj = 0\n",
    "\td = 0\n",
    "\twhile (i < len_arr1 and j < len_arr2):\n",
    "\t\tif (arr1[i] < arr2[j]):\n",
    "\t\t\tsorted_arr[d] = arr1[i]\n",
    "\t\t\ti += 1\n",
    "\t\telse:\n",
    "\t\t\tsorted_arr[d] = arr2[j]\n",
    "\t\t\tj += 1\n",
    "\t\td += 1\n",
    "\twhile (i < len_arr1):\n",
    "\t\tsorted_arr[d] = arr1[i]\n",
    "\t\td += 1\n",
    "\t\ti += 1\n",
    "\twhile (j < len_arr2):\n",
    "\t\tsorted_arr[d] = arr2[j]\n",
    "\t\td += 1\n",
    "\t\tj += 1\n",
    "\treturn sorted_arr[k - 1]"
   ]
  },
  {
   "attachments": {},
   "cell_type": "markdown",
   "metadata": {},
   "source": [
    "**Esecuzione O(m+n)**"
   ]
  },
  {
   "cell_type": "code",
   "execution_count": 8,
   "metadata": {},
   "outputs": [
    {
     "data": {
      "text/plain": [
       "6"
      ]
     },
     "execution_count": 8,
     "metadata": {},
     "output_type": "execute_result"
    }
   ],
   "source": [
    "arr1 = [2, 3, 6, 7, 9]\n",
    "arr2 = [1, 4, 8, 10]\n",
    "len_arr1 = 5\n",
    "len_arr2 = 4\n",
    "k = 5\n",
    "kth(arr1, arr2, len_arr1, len_arr2, k)"
   ]
  },
  {
   "attachments": {},
   "cell_type": "markdown",
   "metadata": {},
   "source": [
    "**Idea O(log m + log n)**"
   ]
  },
  {
   "attachments": {},
   "cell_type": "markdown",
   "metadata": {},
   "source": [
    "While the previous method works, can we make our algorithm more efficient? The answer is yes. By using a divide and conquer approach, similar to the one used in binary search, we can attempt to find the k’th element in a more efficient way.\n",
    "\n",
    "Compare the middle elements of arrays arr1 and arr2, let us call these indices mid1 and mid2 respectively. Let us assume arr1[mid1] > arr2[mid2], then clearly the elements after mid2 cannot be the required element. Set the last element of arr2 to be arr2[mid2].\n",
    "In this way, define a new subproblem with half the size of one of the arrays."
   ]
  },
  {
   "attachments": {},
   "cell_type": "markdown",
   "metadata": {},
   "source": [
    "**Soluzione O(log m + log n)**"
   ]
  },
  {
   "cell_type": "code",
   "execution_count": 10,
   "metadata": {},
   "outputs": [
    {
     "name": "stdout",
     "output_type": "stream",
     "text": [
      "6\n"
     ]
    }
   ],
   "source": [
    "def kth(arr1, arr2, len_arr1, len_arr2, k):\n",
    "\n",
    "\tif len_arr1 == 1 or len_arr2 == 1:\n",
    "\t\tif len_arr2 == 1:\n",
    "\t\t\tarr2, arr1 = arr1, arr2\n",
    "\t\t\tlen_arr2 = len_arr1\n",
    "\t\tif k == 1:\n",
    "\t\t\treturn min(arr1[0], arr2[0])\n",
    "\t\telif k == len_arr2 + 1:\n",
    "\t\t\treturn max(arr1[0], arr2[0])\n",
    "\t\telse:\n",
    "\t\t\tif arr2[k - 1] < arr1[0]:\n",
    "\t\t\t\treturn arr2[k - 1]\n",
    "\t\t\telse:\n",
    "\t\t\t\treturn max(arr1[0], arr2[k - 2])\n",
    "\n",
    "\tmid1 = (len_arr1 - 1)//2\n",
    "\tmid2 = (len_arr2 - 1)//2\n",
    "\n",
    "\tif mid1+mid2+1 < k:\n",
    "\t\tif arr1[mid1] < arr2[mid2]:\n",
    "\t\t\treturn kth(arr1[mid1 + 1:], arr2, len_arr1 - mid1 - 1, len_arr2, k - mid1 - 1)\n",
    "\t\telse:\n",
    "\t\t\treturn kth(arr1, arr2[mid2 + 1:], len_arr1, len_arr2 - mid2 - 1, k - mid2 - 1)\n",
    "\telse:\n",
    "\t\tif arr1[mid1] < arr2[mid2]:\n",
    "\t\t\treturn kth(arr1, arr2[:mid2 + 1], len_arr1, mid2 + 1, k)\n",
    "\t\telse:\n",
    "\t\t\treturn kth(arr1[:mid1 + 1], arr2, mid1 + 1, len_arr2, k)\n",
    "\n",
    "arr1 = [2, 3, 6, 7, 9]\n",
    "arr2 = [1, 4, 8, 10]\n",
    "len_arr1 = 5\n",
    "len_arr2 = 4\n",
    "k = 5\n",
    "kth(arr1, arr2, len_arr1, len_arr2, k)"
   ]
  }
 ],
 "metadata": {
  "kernelspec": {
   "display_name": "stable",
   "language": "python",
   "name": "python3"
  },
  "language_info": {
   "codemirror_mode": {
    "name": "ipython",
    "version": 3
   },
   "file_extension": ".py",
   "mimetype": "text/x-python",
   "name": "python",
   "nbconvert_exporter": "python",
   "pygments_lexer": "ipython3",
   "version": "3.9.16"
  },
  "orig_nbformat": 4
 },
 "nbformat": 4,
 "nbformat_minor": 2
}
