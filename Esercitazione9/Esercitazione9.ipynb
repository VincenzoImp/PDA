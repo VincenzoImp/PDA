{
 "cells": [
  {
   "attachments": {},
   "cell_type": "markdown",
   "metadata": {},
   "source": [
    "# Esercitazione 9"
   ]
  },
  {
   "attachments": {},
   "cell_type": "markdown",
   "metadata": {},
   "source": [
    "## Es 1. Supersequenza di lunghezza minima"
   ]
  },
  {
   "attachments": {},
   "cell_type": "markdown",
   "metadata": {},
   "source": [
    "**Testo**"
   ]
  },
  {
   "attachments": {},
   "cell_type": "markdown",
   "metadata": {},
   "source": [
    "Date due sequenze X = (x1,...,xn) e Y = (y1,...,ym) una supersequenza di X e Y è una qualsiasi sequenza Z tale che sia X che Y sono sottosequenze di Z.\n",
    "Ad esempio, per le sequenze di lettere alberi e libri le seguenti sono supersequenze: alberilibri, albelibri, lialberi, a liberi.\n",
    "- Dare lo pseudo-codice di un algoritmo che, date due sequenze X e Y, di lunghezze n ed m, calcola la lunghezza minima di una supersequenza di\n",
    "X e Y in O(nm).\n",
    "- Dare poi lo pseudo-codice di un algoritmo che ritorna una supersequenza di lunghezza minima di X e Y ."
   ]
  },
  {
   "attachments": {},
   "cell_type": "markdown",
   "metadata": {},
   "source": [
    "**Idea**"
   ]
  },
  {
   "attachments": {},
   "cell_type": "markdown",
   "metadata": {},
   "source": [
    "Ecco un algoritmo che risolve il problema in tempo lineare O(n):\n",
    "1. Inizializza le variabili max_profit a 0, buy_day e sell_day a 1.\n",
    "2. Per ogni giorno current_day da 2 a n:\n",
    "    - Se il prezzo della merce in current_day è inferiore al prezzo della merce nel giorno buy_day, imposta buy_day su current_day.\n",
    "    - Altrimenti, calcola il profitto potenziale (potential_profit) come la differenza tra il prezzo della merce in current_day e il prezzo della merce nel giorno buy_day. Se potential_profit è maggiore di max_profit e current_day è maggiore o uguale a buy_day, imposta max_profit su potential_profit e sell_day su current_day.\n",
    "3. Restituisci la coppia (buy_day, sell_day) come risultato."
   ]
  },
  {
   "attachments": {},
   "cell_type": "markdown",
   "metadata": {},
   "source": [
    "**Soluzione**"
   ]
  },
  {
   "cell_type": "code",
   "execution_count": null,
   "metadata": {},
   "outputs": [],
   "source": []
  },
  {
   "attachments": {},
   "cell_type": "markdown",
   "metadata": {},
   "source": [
    "**Esecuzione**"
   ]
  },
  {
   "cell_type": "code",
   "execution_count": null,
   "metadata": {},
   "outputs": [],
   "source": []
  }
 ],
 "metadata": {
  "kernelspec": {
   "display_name": "stable",
   "language": "python",
   "name": "python3"
  },
  "language_info": {
   "codemirror_mode": {
    "name": "ipython",
    "version": 3
   },
   "file_extension": ".py",
   "mimetype": "text/x-python",
   "name": "python",
   "nbconvert_exporter": "python",
   "pygments_lexer": "ipython3",
   "version": "3.9.16"
  },
  "orig_nbformat": 4
 },
 "nbformat": 4,
 "nbformat_minor": 2
}
