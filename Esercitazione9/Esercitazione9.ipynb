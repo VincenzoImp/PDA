{
 "cells": [
  {
   "attachments": {},
   "cell_type": "markdown",
   "metadata": {},
   "source": [
    "# Esercitazione 9"
   ]
  },
  {
   "attachments": {},
   "cell_type": "markdown",
   "metadata": {},
   "source": [
    "## Es 1. Supersequenza di lunghezza minima"
   ]
  },
  {
   "cell_type": "markdown",
   "metadata": {},
   "source": [
    "**Testo**"
   ]
  },
  {
   "cell_type": "markdown",
   "metadata": {},
   "source": [
    "Date due sequenze X = (x1,...,xn) e Y = (y1,...,ym) una supersequenza di X e Y è una qualsiasi sequenza Z tale che sia X che Y sono sottosequenze di Z.\n",
    "Ad esempio, per le sequenze di lettere alberi e libri le seguenti sono supersequenze: alberilibri, albelibri, lialberi, a liberi.\n",
    "- Dare lo pseudo-codice di un algoritmo che, date due sequenze X e Y, di lunghezze n ed m, calcola la lunghezza minima di una supersequenza di\n",
    "X e Y in O(nm).\n",
    "- Dare poi lo pseudo-codice di un algoritmo che ritorna una supersequenza di lunghezza minima di X e Y."
   ]
  },
  {
   "cell_type": "markdown",
   "metadata": {},
   "source": [
    "**Idea**"
   ]
  },
  {
   "cell_type": "markdown",
   "metadata": {},
   "source": []
  },
  {
   "cell_type": "markdown",
   "metadata": {},
   "source": [
    "**Soluzione**"
   ]
  },
  {
   "cell_type": "code",
   "execution_count": 1,
   "metadata": {},
   "outputs": [],
   "source": [
    "def superSeqRecAux(x,y,i,j):\n",
    "\tm = len(x)\n",
    "\tn = len(y)\n",
    "\tif i==m and j==n:\n",
    "\t\treturn 0, [[]]\n",
    "\tif i==m:\n",
    "\t\treturn n-j, [[y[j:]]]\n",
    "\tif j==n:\n",
    "\t\treturn m-i, [[x[i:]]]\n",
    "\tif x[i]==y[j]:\n",
    "\t\tl, seqs = superSeqRecAux(x, y, i+1, j+1)\n",
    "\t\treturn l+1, [[x[i]]+z for z in seqs]\n",
    "\tl1, seqs1 = superSeqRecAux(x, y, i+1, j)\n",
    "\tl2, seqs2 = superSeqRecAux(x, y, i, j+1)\n",
    "\tif l1 < l2:\n",
    "\t\treturn l1+1, [[x[i]]+z for z in seqs1]\n",
    "\tif l2 < l1:\n",
    "\t\treturn l2+1, [[y[j]]+z for z in seqs2]\n",
    "\treturn l1+1, [[x[i]]+z for z in seqs1] + [[y[j]]+z for z in seqs2]"
   ]
  },
  {
   "cell_type": "code",
   "execution_count": 2,
   "metadata": {},
   "outputs": [],
   "source": [
    "def superSeqRec(x,y):\n",
    "# versione top-down ricorsiva che calcola la lunghezza minima supersequenza\n",
    "# e tutte le supersequenze che realizzano tale minimo.\n",
    "# E' inerentemente esponenziale nel caso pessimo (sequenze con caratteri disgiunti)\n",
    "# perche' in tal caso il numero di sequenze da generare e' nell'ordine di 2^(m+n)\t\n",
    "\treturn superSeqRecAux(x, y, 0, 0)"
   ]
  },
  {
   "cell_type": "code",
   "execution_count": 3,
   "metadata": {},
   "outputs": [],
   "source": [
    "def superSeqRecAuxDP(x,y,i,j,T):\n",
    "\tm = len(x)\n",
    "\tn = len(y)\n",
    "\tif T[i][j] < 0:\n",
    "\t\tif i==m and j==n:\n",
    "\t\t\tT[i][j] = 0\n",
    "\t\telif i==m:\n",
    "\t\t\tT[i][j] = 1 + superSeqRecAuxDP(x, y, i, j+1, T)\t\t\t\n",
    "\t\telif j==n:\n",
    "\t\t\tT[i][j] = 1 + superSeqRecAuxDP(x, y, i+1, j, T)\t\t\t\n",
    "\t\telif x[i]==y[j]:\n",
    "\t\t\tT[i][j] = 1 + superSeqRecAuxDP(x, y, i+1, j+1, T)\n",
    "\t\telse:\n",
    "\t\t\tT[i][j] = 1 + min(superSeqRecAuxDP(x, y, i+1, j, T), superSeqRecAuxDP(x, y, i, j+1, T))\n",
    "\treturn T[i][j]"
   ]
  },
  {
   "cell_type": "code",
   "execution_count": 4,
   "metadata": {},
   "outputs": [],
   "source": [
    "def superSeqRecDP(x,y):\n",
    "# versione top-down ricorsiva con matrice per evitare di ricadere \n",
    "# negli stessi casi che dipendono solo dagli indici i e j e sono \n",
    "# quindi m x n\n",
    "\tm = len(x)\n",
    "\tn = len(y)\n",
    "\tT = [[-1 for _ in range(n+1)] for _ in range(m+1)]\t\n",
    "\t#T[m][n] = 0\n",
    "\tl = superSeqRecAuxDP(x, y, 0, 0, T)\n",
    "\treturn T"
   ]
  },
  {
   "cell_type": "code",
   "execution_count": 5,
   "metadata": {},
   "outputs": [],
   "source": [
    "def superSeq(x,y):\n",
    "# versione bottom-up iterativa\n",
    "# costruisce una matrice T di dimensione n+1 x m+1 in cui \n",
    "# T[i][j] e' la lunghezza della minima supersequenza \n",
    "# tra x[i:] e y[j:]\n",
    "\tm = len(x)\n",
    "\tn = len(y)\n",
    "\tT = [[-1 for _ in range(n+1)] for _ in range(m+1)]\t\n",
    "\tT[m][n] = 0\n",
    "\td = m+n-1\n",
    "\twhile (d>=0):\n",
    "\t\tif (d>=n):\n",
    "\t\t\tj = n\n",
    "\t\t\ti = d - j \n",
    "\t\telse:\n",
    "\t\t\tj = d\t\n",
    "\t\t\ti = 0\n",
    "\t\twhile i<=m and j>=0:\n",
    "\t\t\tif j<=n and i+1<=m: \n",
    "\t\t\t\tm1 = T[i+1][j] \n",
    "\t\t\telse: m1=m+n\n",
    "\t\t\tif i<=m and j+1<=n: \n",
    "\t\t\t\tm2 = T[i][j+1] \n",
    "\t\t\telse: m2=m+n\n",
    "\t\t\tif i+1 <= m and j+1 <= n and x[i]==y[j]: \n",
    "\t\t\t\tm3 = T[i+1][j+1] \n",
    "\t\t\telse: m3 = m+n\n",
    "\t\t\tT[i][j] = 1 + min(m1, m2, m3)\n",
    "\t\t\ti, j = i+1, j-1\n",
    "\t\td = d-1\t\n",
    "\treturn T"
   ]
  },
  {
   "cell_type": "code",
   "execution_count": 6,
   "metadata": {},
   "outputs": [],
   "source": [
    "def ricostruisci(T, x, y):\n",
    "# da T posso ricostruire una soluzione ottima:\n",
    "# scendere di riga significa prendere il prossimo carattere di x\n",
    "# scendere di colonna significa prendere il prossimo carattere di y\n",
    "# devo scendere in diagonale solo se x[i]==y[j] \t\n",
    "\tm = len(T)\n",
    "\tn = len(T[1])\n",
    "\tz = []\n",
    "\ti, j = 0, 0\n",
    "\twhile i<m-1 or j<n-1:\n",
    "\t\tif i < m-1 and j < n-1 and x[i] == y[j]:\n",
    "\t\t\tz.append(x[i])\n",
    "\t\t\ti, j = i+1, j+1\n",
    "\t\telif i<m and j<n-1 and T[i][j] == T[i][j+1] + 1:\n",
    "\t\t\tz.append(y[j])\n",
    "\t\t\tj += 1\n",
    "\t\telse:\n",
    "\t\t\tz.append(x[i]) \t\t\n",
    "\t\t\ti += 1\n",
    "\treturn z"
   ]
  },
  {
   "cell_type": "markdown",
   "metadata": {},
   "source": [
    "**Esecuzione**"
   ]
  },
  {
   "cell_type": "code",
   "execution_count": 7,
   "metadata": {},
   "outputs": [
    {
     "name": "stdout",
     "output_type": "stream",
     "text": [
      "['a', 'l', 'i', 'b', 'e', 'r', 'i']\n",
      "(7, [['a', 'l', 'i', 'b', 'e', 'r', 'i']])\n",
      "['a', 'l', 'i', 'b', 'e', 'r', 'i']\n",
      "['b', 'b', 'b', 'b', 'b', 'b', 'a', 'a', 'a', 'a']\n",
      "['b', 'b', 'b', 'b', 'b', 'b', 'a', 'a', 'a', 'a']\n",
      "(7, [['a', 'l', 'i', 'b', 'e', 'r', 'i']])\n",
      "[[7, 6, 5, 4, 3], [6, 5, 4, 3, 2], [5, 4, 3, 2, 1], [4, 3, 2, 1, 0]]\n",
      "['b', 'b', 'b', 'b', 'a', 'a', 'a']\n"
     ]
    }
   ],
   "source": [
    "x = \"alberi\"\n",
    "y = \"libri\"\n",
    "T = superSeq(x, y)\n",
    "print(ricostruisci(T, x, y))\n",
    "print(superSeqRec(x, y))\n",
    "T = superSeqRecDP(x, y)\n",
    "print(ricostruisci(T, x, y))\n",
    "\n",
    "x = \"aaaa\"\n",
    "y = \"bbbbbb\"\n",
    "T = superSeq(x, y)\n",
    "print(ricostruisci(T, x, y))\n",
    "T = superSeqRecDP(x, y)\n",
    "print(ricostruisci(T, x, y))\n",
    "\n",
    "print(superSeqRec(\"alberi\", \"libri\"))\n",
    "T = superSeq(\"aaa\", \"bbbb\")\n",
    "print(T)\n",
    "print(ricostruisci(T, \"aaa\", \"bbbb\"))"
   ]
  },
  {
   "cell_type": "markdown",
   "metadata": {},
   "source": [
    "## Es 2. Percorso crescente più lungo in matrice"
   ]
  },
  {
   "cell_type": "markdown",
   "metadata": {},
   "source": [
    "**Testo**"
   ]
  },
  {
   "cell_type": "markdown",
   "metadata": {},
   "source": [
    "Data una matrice di dimensione n x n le cui celle sono numerate con numeri distinti che vanno da 1 a n2, vogliamo trovare la massima lunghezza possibile per cammini che toccano celle con numerazione crescente e incremento di 1.\n",
    "\\\n",
    "I cammini possono partire da una qualunque cella e, nel corso del cammino, dalla generica cella (i, j) ci si puo' spostare in una qualunque cella adiacente in orizzontale o verticale (vale a dire in una delle celle (i, j+1),(i+1, j),(i, j1),(i1, j)). La lunghezza di un cammino e' data dal numero di nodi toccati dal cammino.\n",
    "\\\n",
    "Progettare un algoritmo che risolve il problema in tempo O(n^2)\n",
    "\\\n",
    "Ad esempio: per la matrice A la risposta e' 1 mentre per la matrice B, grazie al cammino 2 -> 3 -> 4 -> 5 -> 6 -> 7, la risposta e' 6"
   ]
  },
  {
   "cell_type": "markdown",
   "metadata": {},
   "source": [
    "**Idea**"
   ]
  },
  {
   "cell_type": "markdown",
   "metadata": {},
   "source": [
    "Allocare una matrice T con i percorsi piu' lunghi gia' computati inizialmente -1 (non computato) poi si computano tutti con la programmazione dinamica"
   ]
  },
  {
   "cell_type": "markdown",
   "metadata": {},
   "source": [
    "**Soluzione**"
   ]
  },
  {
   "cell_type": "code",
   "execution_count": 8,
   "metadata": {},
   "outputs": [],
   "source": [
    "def camminoMaxAux(M,i,j,T,v):\n",
    "\tn = len(M)\n",
    "\t# mi fermo se l'elemento corrente non e' il successivo del precedente\n",
    "\tif M[i][j] != v and M[i][j]!=v+1 :\t\n",
    "\t\treturn 0\n",
    "\t# calcolo il massimo tra tutti i percorsi (alto, sinistra, basso, destra)\n",
    "\t# se il valore non e' gia' disponibile in T[i][j]\t\n",
    "\tif T[i][j]<0:\n",
    "\t\tm1, m2, m3, m4 = 0,0,0,0\t\n",
    "\t\tif i-1 >= 0:\n",
    "\t\t\tm1 = camminoMaxAux(M, i-1, j, T, M[i][j])\n",
    "\t\tif j-1 >=0:\n",
    "\t\t\tm2 = camminoMaxAux(M, i, j-1, T, M[i][j])\n",
    "\t\tif i+1 < n:\t\t\n",
    "\t\t\tm3 = camminoMaxAux(M, i+1, j, T, M[i][j])\n",
    "\t\tif j+1 < n:\t\t\n",
    "\t\t\tm4 = camminoMaxAux(M, i, j+1, T, M[i][j])\n",
    "\t\t# aggiorno T[i][j]\t\n",
    "\t\tT[i][j]\t= 1 + max(m1,m2,m3,m4)\n",
    "\treturn T[i][j]\n",
    "\n",
    "def camminoMax(M):\n",
    "\tn = len(M)\n",
    "\tT = [[-1 for _ in range(n)] for _ in range(n)]\n",
    "\tfor i in range(n):\n",
    "\t\tfor j in range(n):\n",
    "\t\t# calcolo quelli non ancora computati dalla funzione ausiliaria ricorsiva\t\n",
    "\t\t\tif T[i][j]<0:\n",
    "\t\t\t\tT[i][j] = camminoMaxAux(M, i, j, T, M[i][j])\n",
    "\treturn T\t"
   ]
  },
  {
   "cell_type": "markdown",
   "metadata": {},
   "source": [
    "**Esecuzione**"
   ]
  },
  {
   "cell_type": "code",
   "execution_count": 9,
   "metadata": {},
   "outputs": [
    {
     "name": "stdout",
     "output_type": "stream",
     "text": [
      "[[1, 1, 1], [1, 1, 1], [1, 1, 1]]\n",
      "1\n",
      "[[1, 1, 2], [2, 6, 3], [1, 5, 4]]\n",
      "6\n"
     ]
    }
   ],
   "source": [
    "A =[[3,6,2],[7,1,9],[4,8,5]]\n",
    "B =[[9,7,6],[8,2,5],[1,3,4]]\n",
    "T = camminoMax(A)\n",
    "print(T)\n",
    "print(max(max(T)))\n",
    "T = camminoMax(B)\n",
    "print(T)\n",
    "print(max(max(T)))"
   ]
  },
  {
   "cell_type": "markdown",
   "metadata": {},
   "source": [
    "## Es 3. Sequenza valida di somma minima"
   ]
  },
  {
   "cell_type": "markdown",
   "metadata": {},
   "source": [
    "**Testo**"
   ]
  },
  {
   "cell_type": "markdown",
   "metadata": {},
   "source": [
    "Abbiamo una sequenza S = (s1, s2,...,sn) di interi positivi. Una sottosequenza S' di S si definisce valida se per ogni coppia di elementi\n",
    "consecutivi di S almeno un elemento della coppia compare in S'.\n",
    "\\\n",
    "Il valore di una sottosequenza valida e' la somma dei suoi elementi.\n",
    "\\\n",
    "Ad esempio: per S = (1, 2, 3, 5, 4, 6, 7), la sottosequenza S' = (1, 3, 6) non e' valida, mentre la sottosequenza S' = (2, 5, 4, 7) e' valida ed ha valore valore 18 e la sottosequenza S'' = (2, 3, 4, 6) e' valida ed ha valore 15.\n",
    "- Descrivere un algoritmo che, data la sequenza S, calcola il valore minimo di una sottosequenza valida in tempo O(n).\n",
    "- Descrivere poi un algoritmo che trova una sottosequenza valida di valore minimo."
   ]
  },
  {
   "cell_type": "markdown",
   "metadata": {},
   "source": [
    "**Idea**"
   ]
  },
  {
   "cell_type": "markdown",
   "metadata": {},
   "source": []
  },
  {
   "cell_type": "markdown",
   "metadata": {},
   "source": [
    "**Soluzione**"
   ]
  },
  {
   "cell_type": "code",
   "execution_count": 10,
   "metadata": {},
   "outputs": [],
   "source": [
    "def ricostruisciSV(TP, TU, s):\n",
    "\t# TP e TU sono sufficienti a ricostruire la soluzione ottima\n",
    "\t# res[i] sara' s[i] se s[i] e' nella soluzione ottima\n",
    "\t# e None altrimenti \n",
    "\tres = [None for _ in s]\n",
    "\tn = len(s)\n",
    "\t# l'ultimo elemento sta nella soluzione ottima se TU[n-1]<TP[n-1]\n",
    "\tif TU[n-1]<TP[n-1]:\n",
    "\t\tres[n-1]=s[n-1]\n",
    "\tfor i in reversed(range(n-1)):\n",
    "\t\t# l'elemento s[i] e' nella soluzione ottima se:\n",
    "\t\t#\t* s[i+1] non e' nella soluzione ottima\n",
    "\t\t#   * oppure TU[i+1] viene ottenuto da TU[i]\n",
    "\t\tif res[i+1] == None or TU[i+1]==TU[i]+s[i+1]:\n",
    "\t\t\tres[i]=s[i]\n",
    "\treturn res\t\t\n",
    "\n",
    "def seqValida(s):\n",
    "\tn = len(s)\n",
    "\tTU = [-1 for _ in s] #somma della seq minima in cui ho preso l'ultimo\n",
    "\tTP = [-1 for _ in s] #somma della seq minima in cui non ho preso l'ultimo\n",
    "\tTU[0], TP[0] = s[0],0\n",
    "\tfor i in range(1,n):\n",
    "\t\tTU[i] = min(TU[i-1]+s[i], TP[i-1]+s[i])\n",
    "\t\tTP[i] = TU[i-1]\n",
    "\t# il valore della sequenza ottima e' il minimo tra il valore della sequenza ottima contenente l'ultimo\n",
    "\t# e quello della sequenza ottima NON contenente l'ultimo\n",
    "\treturn TP, TU, min(TP[n-1], TU[n-1])"
   ]
  },
  {
   "cell_type": "markdown",
   "metadata": {},
   "source": [
    "**Esecuzione**"
   ]
  },
  {
   "cell_type": "code",
   "execution_count": 11,
   "metadata": {},
   "outputs": [
    {
     "name": "stdout",
     "output_type": "stream",
     "text": [
      "13 [None, 2, None, 5, None, 6, None]\n",
      "6 [1, None, 1, 1, None, 1, 1, None, 1]\n"
     ]
    }
   ],
   "source": [
    "s = [1,2,3,5,4,6,7]\n",
    "TP, TU, v = seqValida(s)\n",
    "print(v, ricostruisciSV(TP, TU, s))\n",
    "\n",
    "s = [1,5,1,1,5,1,1,5,1]\n",
    "TP, TU, v = seqValida(s)\n",
    "print(v, ricostruisciSV(TP, TU, s))"
   ]
  }
 ],
 "metadata": {
  "kernelspec": {
   "display_name": "stable",
   "language": "python",
   "name": "python3"
  },
  "language_info": {
   "codemirror_mode": {
    "name": "ipython",
    "version": 3
   },
   "file_extension": ".py",
   "mimetype": "text/x-python",
   "name": "python",
   "nbconvert_exporter": "python",
   "pygments_lexer": "ipython3",
   "version": "3.9.16"
  },
  "orig_nbformat": 4
 },
 "nbformat": 4,
 "nbformat_minor": 2
}
