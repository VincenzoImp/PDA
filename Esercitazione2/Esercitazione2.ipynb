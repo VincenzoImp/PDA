{
 "cells": [
  {
   "attachments": {},
   "cell_type": "markdown",
   "metadata": {},
   "source": [
    "# Esercitazione 2"
   ]
  },
  {
   "cell_type": "code",
   "execution_count": 19,
   "metadata": {},
   "outputs": [],
   "source": [
    "import networkx as nx\n",
    "import copy"
   ]
  },
  {
   "cell_type": "code",
   "execution_count": 20,
   "metadata": {},
   "outputs": [],
   "source": [
    "def drawGraph(graph):\n",
    "    G = nx.Graph(graph)\n",
    "    nx.draw_networkx(G, pos=nx.planar_layout(G))\n",
    "\n",
    "def drawDiGraph(di_graph):\n",
    "    G = nx.DiGraph(di_graph)\n",
    "    nx.draw_networkx(G, pos=nx.planar_layout(G))"
   ]
  },
  {
   "attachments": {},
   "cell_type": "markdown",
   "metadata": {},
   "source": [
    "## Es. 1. Almeno 1 tra un grafo e il suo complementare è connesso"
   ]
  },
  {
   "attachments": {},
   "cell_type": "markdown",
   "metadata": {},
   "source": [
    "**Testo**"
   ]
  },
  {
   "attachments": {},
   "cell_type": "markdown",
   "metadata": {},
   "source": [
    "Dato un grafo G il suo grafo complementare Gc e’ un grafo che ha gli stessi nodi di G ma in cui un arco e’ presente se e solo se manca a G. \n",
    "\\\n",
    "Ad esempio, di seguito a sinistra un grafo G e a destra il suo complemento Gc.\n",
    "\\\n",
    "![img1](img1.png)\n",
    "\\\n",
    "Dimostrare che, per ogni grafo G, almeno uno dei grafi G e Gc e’ connesso."
   ]
  },
  {
   "attachments": {},
   "cell_type": "markdown",
   "metadata": {},
   "source": [
    "**Soluzione**"
   ]
  },
  {
   "attachments": {},
   "cell_type": "markdown",
   "metadata": {},
   "source": [
    "Supponiamo per assurdo che entrambi i grafi G e Gc siano non connessi. Ciò significa che esistono almeno due componenti connesse distinte in ciascuno dei due grafi.\n",
    "\\\n",
    "Sia A una componente connessa di G e sia B una componente connessa di Gc. Poiché Gc ha gli stessi nodi di G, A e B sono insiemi disgiunti di nodi di G. Poiché A è connesso in G, esiste almeno un arco che connette due nodi di A. Ma poiché Gc ha gli stessi nodi di G, l'arco che connette questi due nodi non è presente in Gc e quindi questi due nodi appartengono a componenti connesse distinte di Gc. Quindi A e B sono due componenti connesse distinte sia in G che in Gc, il che è un assurdo.\n",
    "\\\n",
    "Concludiamo quindi che almeno uno dei grafi G e Gc deve essere connesso."
   ]
  },
  {
   "attachments": {},
   "cell_type": "markdown",
   "metadata": {},
   "source": [
    "## Es. 2. DFS possibili e impossibili"
   ]
  },
  {
   "attachments": {},
   "cell_type": "markdown",
   "metadata": {},
   "source": [
    "**Testo**"
   ]
  },
  {
   "attachments": {},
   "cell_type": "markdown",
   "metadata": {},
   "source": [
    "Si consideri il grafo G nella figura qui sotto e l’albero T formato dagli archi marcati.\n",
    "\\\n",
    "L’albero T puo’ essere stato prodotto da una DFS? In caso affermativo, esibire una rappresentazione di G tramite liste di adiacenza in grado di produrre T e specificare il nodo da cui parte la visita e il numero di archi all’indietro che si ottengono a seguito della visita.\n",
    "\\\n",
    "![img2](img2.png)"
   ]
  },
  {
   "attachments": {},
   "cell_type": "markdown",
   "metadata": {},
   "source": [
    "**Soluzione**"
   ]
  },
  {
   "attachments": {},
   "cell_type": "markdown",
   "metadata": {},
   "source": [
    "L’albero T non puo’ essere ottenuto da nessuna possibile visita in DFS, il che vuol dire che non e’ una DFS possibile.\n",
    "- root a: (a, d, e, g, h, [f obbligato partendo da h])\n",
    "- root b: (b, a, d, e, g, h, [f obbligato partendo da h])\n",
    "- root c: (c, d, a, b, e, g, h, [f obbligato partendo da h])\n",
    "- root d: (d, a, b, e, g, h, [f obbligato partendo da h])\n",
    "- root e: (e, d, a, b, [c obbligato partendo da a])\n",
    "- root f: (f, g, h, e, d, a, b, [c obbligato partendo da a])\n",
    "- root g: (g, e, d, a, b, [c obbligato partendo da a])\n",
    "- root h: (h, g, e, d, a, b, [c obbligato partendo da a])"
   ]
  },
  {
   "attachments": {},
   "cell_type": "markdown",
   "metadata": {},
   "source": [
    "## Es. 3. DFS possibili e impossibili"
   ]
  },
  {
   "cell_type": "markdown",
   "metadata": {},
   "source": [
    "**Testo**"
   ]
  },
  {
   "attachments": {},
   "cell_type": "markdown",
   "metadata": {},
   "source": [
    "Si consideri il grafo diretto G nella figura qui sotto e l’albero (arborescenza) T formato dagli archi marcati. \n",
    "\\\n",
    "L’albero T puo’ essere stato prodotto da una DFS? In caso affermativo, esibire una rappresentazione di G tramite liste di adiacenza in grado di produrre T e specificare il numero di archi all’indietro, in avanti e di attraversamento che si ottengono a seguito della visita.\n",
    "![img3](img3.png)"
   ]
  },
  {
   "attachments": {},
   "cell_type": "markdown",
   "metadata": {},
   "source": [
    "**Soluzione**"
   ]
  },
  {
   "attachments": {},
   "cell_type": "markdown",
   "metadata": {},
   "source": [
    "L’albero T puo’ essere il risultato di una DFS con il nodo 1 come radice e con il seguente ordine di visita: 1, 3, 2, 7, 4, 5, 6, 8.\n",
    "Nella figura:\n",
    "- Gli archi neri formano l’albero di visita T. \n",
    "- Gli archi rossi corrispondono agli archi all’indietro.\n",
    "- Gli archi verdi corrispondono agli archi in avanti.\n",
    "- Gli archi blu corrispondono agli archi di attraversamento.\n",
    "\n",
    "![img4](img4.png)"
   ]
  },
  {
   "attachments": {},
   "cell_type": "markdown",
   "metadata": {},
   "source": [
    "## Es. 4. Passeggiata che percorre tutti gli archi di un grafo non orientato esattamente 2 volte, 1 per ogni direzione"
   ]
  },
  {
   "cell_type": "markdown",
   "metadata": {},
   "source": [
    "**Testo**"
   ]
  },
  {
   "attachments": {},
   "cell_type": "markdown",
   "metadata": {},
   "source": [
    "Descrivere un algoritmo che, dato un grafo connesso G, trova un cammino in G che attraversa tutti gli archi una e una sola volta in ognuna delle due direzioni. L’algoritmo deve avere complessita’ O(m).\n",
    "\\\n",
    "![img5](img5.png)\n",
    "\\\n",
    "Ad esempio per il grafo in figura che ha 7 archi una possibile soluzione e’ il seguente cammino di lunghezza 14: 1 - 4 - 5 - 4 - 1 - 5 - 1 - 2 - 3 - 4 - 3 - 5 - 3 - 2 - 1"
   ]
  },
  {
   "attachments": {},
   "cell_type": "markdown",
   "metadata": {},
   "source": [
    "**Ricorda che**"
   ]
  },
  {
   "attachments": {},
   "cell_type": "markdown",
   "metadata": {},
   "source": [
    "Una passeggiata che percorre tutti gli archi di un grafo non orientato esattamente 2 volte, una volta per ogni direzione, è chiamata passeggiata di Eulero. \n",
    "Perché un grafo non orientato abbia una passeggiata di Eulero, deve soddisfare due condizioni:\n",
    "- Tutti i vertici devono avere grado pari. Poiché ogni volta che si attraversa un arco, si aumenta il grado del vertice di partenza di 1 e lo stesso per il vertice di arrivo, ogni vertice deve avere lo stesso numero di archi in ingresso e in uscita per poter tornare al punto di partenza alla fine della passeggiata.\n",
    "- Il grafo deve essere connesso o avere più componenti connesse, ognuna delle quali deve soddisfare la condizione 1.\n"
   ]
  },
  {
   "attachments": {},
   "cell_type": "markdown",
   "metadata": {},
   "source": [
    "**Idea**"
   ]
  },
  {
   "attachments": {},
   "cell_type": "markdown",
   "metadata": {},
   "source": [
    "L'idea principale dell'algoritmo è, di verificare se il grafo soddisfa le due proprieta’ precedenti e se sì, di trovare la passeggiata di Eulero. L'algoritmo quindi deve controllare prima se il grafo è connesso o ha più componenti connesse, e se ogni vertice ha un grado pari.\n",
    "\\\n",
    "Se il grafo soddisfa le proprieta’, trovare una passeggiata di Eurelo."
   ]
  },
  {
   "attachments": {},
   "cell_type": "markdown",
   "metadata": {},
   "source": [
    "**Soluzione**"
   ]
  },
  {
   "cell_type": "code",
   "execution_count": 51,
   "metadata": {},
   "outputs": [],
   "source": [
    "graph = {\n",
    "    1 : [2, 4, 5], \n",
    "    2 : [1, 3], \n",
    "    3 : [2, 4, 5], \n",
    "    4 : [1, 3, 5], \n",
    "    5 : [1, 3, 4]\n",
    "}"
   ]
  },
  {
   "cell_type": "code",
   "execution_count": 40,
   "metadata": {},
   "outputs": [
    {
     "data": {
      "image/png": "[encoded data removed]",
      "text/plain": [
       "<Figure size 640x480 with 1 Axes>"
      ]
     },
     "metadata": {},
     "output_type": "display_data"
    }
   ],
   "source": [
    "drawGraph(graph)"
   ]
  },
  {
   "cell_type": "code",
   "execution_count": 49,
   "metadata": {},
   "outputs": [],
   "source": [
    "def eurelian_path(graph, start):\n",
    "    stack = [start]\n",
    "    path = []\n",
    "    while stack != []:\n",
    "        print(stack)\n",
    "        node = stack.pop(0)\n",
    "        if len(graph[node]) == 0:\n",
    "            path.append(node)\n",
    "        else:\n",
    "            adj = graph[node].pop(0)\n",
    "            stack.append(adj)\n",
    "    return path"
   ]
  },
  {
   "cell_type": "code",
   "execution_count": 52,
   "metadata": {},
   "outputs": [
    {
     "name": "stdout",
     "output_type": "stream",
     "text": [
      "[1]\n",
      "[2]\n",
      "[1]\n",
      "[4]\n",
      "[1]\n",
      "[5]\n",
      "[1]\n"
     ]
    },
    {
     "data": {
      "text/plain": [
       "[1]"
      ]
     },
     "execution_count": 52,
     "metadata": {},
     "output_type": "execute_result"
    }
   ],
   "source": [
    "eurelian_path(graph, 1)"
   ]
  }
 ],
 "metadata": {
  "kernelspec": {
   "display_name": "stable",
   "language": "python",
   "name": "python3"
  },
  "language_info": {
   "codemirror_mode": {
    "name": "ipython",
    "version": 3
   },
   "file_extension": ".py",
   "mimetype": "text/x-python",
   "name": "python",
   "nbconvert_exporter": "python",
   "pygments_lexer": "ipython3",
   "version": "3.9.16"
  },
  "orig_nbformat": 4
 },
 "nbformat": 4,
 "nbformat_minor": 2
}
