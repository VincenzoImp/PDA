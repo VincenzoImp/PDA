{
 "cells": [
  {
   "attachments": {},
   "cell_type": "markdown",
   "metadata": {},
   "source": [
    "# Esercitazione 10"
   ]
  },
  {
   "attachments": {},
   "cell_type": "markdown",
   "metadata": {},
   "source": [
    "## Es 1. Massima sequenza di 'a' consecutivi pari"
   ]
  },
  {
   "cell_type": "markdown",
   "metadata": {},
   "source": [
    "**Testo**"
   ]
  },
  {
   "cell_type": "markdown",
   "metadata": {},
   "source": [
    "Dare lo pseudo-codice di un algoritmo che dato l’intero n, stampa tutte le stringhe lunghe n con simboli in {a, b} dove i blocchi di simboli 'a' di lunghezza massima che appaiono nella stringa hanno lunghezza pari.\n",
    "\\\n",
    "Ad esempio per n = 1 viene stampata la sola stringa b mentre per n = 5, le stringhe da stampare sono:\n",
    "\\\n",
    "bbbbb aabbb baabb bbaab bbbaa baaaa aabaa aaaab\n",
    "\\\n",
    "L’algoritmo deve avere complessita' O(nS(n)) dove S(n) e' il numero di stringhe da stampare. Motivare la complessit`a del vostro algoritmo."
   ]
  },
  {
   "cell_type": "markdown",
   "metadata": {},
   "source": [
    "**Idea**"
   ]
  },
  {
   "cell_type": "markdown",
   "metadata": {},
   "source": []
  },
  {
   "cell_type": "markdown",
   "metadata": {},
   "source": [
    "**Soluzione**"
   ]
  },
  {
   "cell_type": "code",
   "execution_count": 1,
   "metadata": {},
   "outputs": [],
   "source": [
    "def maxKaCons(x, inf, sup, k, kmax):\n",
    "# scrive tutte le sequenze con al massimo kmax 'a' consecutivi\n",
    "\tif inf == sup:\n",
    "\t\tprint(''.join(x))\n",
    "\telse:\t\n",
    "\t\tx[inf] = 'b'\n",
    "\t\tmaxKaCons(x, inf+1, sup, kmax, kmax)\n",
    "\t\tif k > 0:\n",
    "\t\t\tx[inf] = 'a'\n",
    "\t\t\tmaxKaCons(x, inf+1, sup, k-1, kmax)\n",
    "\n",
    "def pariA(x, inf, aCons, n):\n",
    "\tfor j in range(inf, inf+aCons):\n",
    "\t\tx[j] = 'a'\n",
    "\tif inf + aCons < n:\n",
    "\t\tx[inf+aCons] = 'b'\n",
    "\t\tmaxKaCons(x, inf+aCons+1, n, aCons, aCons)\n",
    "\telse: \n",
    "\t\tprint(''.join(x))\t\n",
    "\n",
    "def maxKaConsInit(x, inf, sup, k, kmax, acons, n):\n",
    "# genera le sequenze con al piu' k a consecutivi, \n",
    "# poi chiama la funzione che mette la sequenza 'b'.'a'^{2n}.'b'\n",
    "\t#print x, inf, sup, k, kmax, acons, n\n",
    "\tif inf == sup:\n",
    "\t\tif sup == 0 or x[sup-1] == 'b':\n",
    "\t\t\tpariA(x, sup, acons, n)\n",
    "\telse:\t\n",
    "\t\tx[inf] = 'b'\n",
    "\t\tmaxKaConsInit(x, inf+1, sup, kmax, kmax, acons, n)\n",
    "\t\tif k > 0:\n",
    "\t\t\tx[inf] = 'a'\n",
    "\t\t\tmaxKaConsInit(x, inf+1, sup, k-1, kmax, acons, n)\n",
    "\n",
    "def maxAConsPari(n):\n",
    "\tx = [None for _ in range(n)]\n",
    "\tmaxKaCons(x, 0, n, 0, 0)\n",
    "\tfor p in range(2,n+1,2):\n",
    "\t\tfor k in range(n-p+1):\n",
    "\t\t\tmaxKaConsInit(x, 0, k, p-1, p-1, p, n)"
   ]
  },
  {
   "cell_type": "markdown",
   "metadata": {},
   "source": [
    "**Esecuzione**"
   ]
  },
  {
   "cell_type": "code",
   "execution_count": 2,
   "metadata": {},
   "outputs": [
    {
     "name": "stdout",
     "output_type": "stream",
     "text": [
      "bbb\n",
      "bba\n",
      "bab\n",
      "baa\n",
      "abb\n",
      "aba\n",
      "aab\n",
      "bbb\n",
      "aab\n",
      "baa\n"
     ]
    }
   ],
   "source": [
    "n = 3\n",
    "k = 2\n",
    "x = [None for _ in range(n)]\n",
    "maxKaCons(x, 0, len(x), k, k)\n",
    "maxAConsPari(n)\t"
   ]
  },
  {
   "cell_type": "markdown",
   "metadata": {},
   "source": [
    "## Es 2. Tutte le sequenze palindrome"
   ]
  },
  {
   "cell_type": "markdown",
   "metadata": {},
   "source": [
    "**Testo**"
   ]
  },
  {
   "cell_type": "markdown",
   "metadata": {},
   "source": [
    "Dare lo pseudo-codice di un algoritmo che dato un intero n, stampa tutte le stringhe palindromi lunghe 2n con valori in {a, b}.\n",
    "\\\n",
    "Ad esempio per n = 2, le stringhe da stampare sono: aaaa abba baab bbbb\n",
    "\\\n",
    "L’algoritmo deve avere complessita' O(n2^n). Motivare la complessita' del vostro algoritmo."
   ]
  },
  {
   "cell_type": "markdown",
   "metadata": {},
   "source": [
    "**Idea**"
   ]
  },
  {
   "cell_type": "markdown",
   "metadata": {},
   "source": [
    "scrivere una funzione che genera tutte le sequenze lunghe n e poi ricopia le n posizioni rimanenti"
   ]
  },
  {
   "cell_type": "markdown",
   "metadata": {},
   "source": [
    "**Soluzione**"
   ]
  },
  {
   "cell_type": "code",
   "execution_count": 3,
   "metadata": {},
   "outputs": [],
   "source": [
    "def allStringsABAux(x, n, i):\n",
    "\tif i==n:\n",
    "\t\tprint(''.join(x))\n",
    "\telse:\t\n",
    "\t\tx[i] = 'a'\t\n",
    "\t\tallStringsABAux(x, n, i+1)\n",
    "\t\tx[i] = 'b'\n",
    "\t\tallStringsABAux(x, n, i+1)\n",
    "\n",
    "def allStringsAB(n):\n",
    "\tx = [None for _ in range(n)]\n",
    "\tallStringsABAux(x, n, 0)\n",
    "\n",
    "#Esercizio vero e proprio: e' sufficiente modificare le funzioni viste prima\n",
    "def allPalindromeABAux(x, n, i):\n",
    "\tif i==n:\n",
    "\t\tfor j in range(n):\n",
    "\t\t\tx[n+j] = x[n-j-1]\n",
    "\t\tprint(''.join(x))\n",
    "\telse:\t\n",
    "\t\tx[i] = 'a'\t\n",
    "\t\tallPalindromeABAux(x, n, i+1)\n",
    "\t\tx[i] = 'b'\n",
    "\t\tallPalindromeABAux(x, n, i+1)\n",
    "\n",
    "def allPalindromeAB(n):\n",
    "\tx = [None for _ in range(2*n)]\n",
    "\tallPalindromeABAux(x, n, 0)"
   ]
  },
  {
   "cell_type": "markdown",
   "metadata": {},
   "source": [
    "**Esecuzione**"
   ]
  },
  {
   "cell_type": "code",
   "execution_count": 4,
   "metadata": {},
   "outputs": [
    {
     "name": "stdout",
     "output_type": "stream",
     "text": [
      "aa\n",
      "ab\n",
      "ba\n",
      "bb\n",
      "aaaa\n",
      "abba\n",
      "baab\n",
      "bbbb\n"
     ]
    }
   ],
   "source": [
    "n = 2 \n",
    "allStringsAB(n)\n",
    "allPalindromeAB(n)"
   ]
  },
  {
   "cell_type": "markdown",
   "metadata": {},
   "source": [
    "## Es 3. Sequenze in cui elementi consecutivi differiscono almeno di 2"
   ]
  },
  {
   "cell_type": "markdown",
   "metadata": {},
   "source": [
    "**Testo**"
   ]
  },
  {
   "cell_type": "markdown",
   "metadata": {},
   "source": [
    "Dare lo pseudo-codice di un algoritmo che dato l’intero n, stampa tutte le sequenze lunghe n formate da interi nell’insieme {1, 2, 3, 4} con la proprieta' che nella sequenza numeri adiacenti distano almeno 2.\n",
    "\\\n",
    "Ad esempio per n = 3 delle 43 = 64 possibili sequenze ne vanno stampate solo 10, vale a dire:\n",
    "\\\n",
    "131 141 142 241 242 313 314 413 414 424\n",
    "\\\n",
    "L’algoritmo deve avere complessita' O(nS(n)) dove S(n) e' il numero di matrici da stampare. Motivare la complessita' del vostro algoritmo."
   ]
  },
  {
   "cell_type": "markdown",
   "metadata": {},
   "source": [
    "**Idea**"
   ]
  },
  {
   "cell_type": "markdown",
   "metadata": {},
   "source": []
  },
  {
   "cell_type": "markdown",
   "metadata": {},
   "source": [
    "**Soluzione**"
   ]
  },
  {
   "cell_type": "code",
   "execution_count": 5,
   "metadata": {},
   "outputs": [],
   "source": [
    "def allStringsAux(x, m, n, i, prec):\n",
    "\tif i==n:\n",
    "\t\tprint(x)\n",
    "\telse:\n",
    "\t\tfor j in range(1,prec-1):\n",
    "\t\t\tx[i] = j\t\n",
    "\t\t\tallStringsAux(x, m, n, i+1, j)\n",
    "\t\tfor j in range(prec+2,m+1):\n",
    "\t\t\tx[i] = j\t\n",
    "\t\t\tallStringsAux(x, m, n, i+1, j)\n",
    "\n",
    "def allStrings(m, n):\n",
    "\tx = [None for _ in range(n)]\n",
    "\tfor j in range(1,m+1):\n",
    "\t\tx[0] = j\n",
    "\t\tallStringsAux(x, m, n, 1, j)"
   ]
  },
  {
   "cell_type": "markdown",
   "metadata": {},
   "source": [
    "**Esecuzione**"
   ]
  },
  {
   "cell_type": "code",
   "execution_count": 6,
   "metadata": {},
   "outputs": [
    {
     "name": "stdout",
     "output_type": "stream",
     "text": [
      "[1, 3, 1]\n",
      "[1, 4, 1]\n",
      "[1, 4, 2]\n",
      "[2, 4, 1]\n",
      "[2, 4, 2]\n",
      "[3, 1, 3]\n",
      "[3, 1, 4]\n",
      "[4, 1, 3]\n",
      "[4, 1, 4]\n",
      "[4, 2, 4]\n"
     ]
    }
   ],
   "source": [
    "allStrings(4,3)"
   ]
  },
  {
   "cell_type": "markdown",
   "metadata": {},
   "source": [
    "## Es 4. Stampa matrici non decrescenti su righe/colonne"
   ]
  },
  {
   "cell_type": "markdown",
   "metadata": {},
   "source": [
    "**Testo**"
   ]
  },
  {
   "cell_type": "markdown",
   "metadata": {},
   "source": [
    "Dare lo pseudo-codice di un algoritmo che dato l’intero n, stampa tutte le matrici ternarie n x n con la proprieta' che le righe e le colonne della matrice risultano ordinate in modo crescente."
   ]
  },
  {
   "cell_type": "markdown",
   "metadata": {},
   "source": [
    "**Idea**"
   ]
  },
  {
   "cell_type": "markdown",
   "metadata": {},
   "source": []
  },
  {
   "cell_type": "markdown",
   "metadata": {},
   "source": [
    "**Soluzione**"
   ]
  },
  {
   "cell_type": "code",
   "execution_count": 7,
   "metadata": {},
   "outputs": [],
   "source": [
    "def stampaMatriciAux(M, i, j, k):\n",
    "\tn = len(M)\n",
    "\tm = len(M[0])\n",
    "\tif i == n: #and j == m-1:\n",
    "\t\tprint(M)\n",
    "\t\treturn\n",
    "\tif i == 0 and j == 0: v = 0\n",
    "\telif i == 0: \n",
    "\t\tv = M[i][j-1]\n",
    "\telif j == 0: \n",
    "\t\tv = M[i-1][j]\n",
    "\telse: \n",
    "\t\tv = max(M[i-1][j],M[i][j-1])\n",
    "\tif j==m-1:\n",
    "\t\tii = i+1\n",
    "\t\tjj = 0\t\n",
    "\telse:\n",
    "\t\tii = i\n",
    "\t\tjj = j+1\n",
    "\tfor x in range(v, k+1):\n",
    "\t\tM[i][j] = x\n",
    "\t\tstampaMatriciAux(M, ii, jj, k)\n",
    "\n",
    "\n",
    "def stampaMatrici(n,k):\n",
    "\tM = [[None for _ in range(n)] for _ in range(n)]\n",
    "\tstampaMatriciAux(M, 0, 0, k)"
   ]
  },
  {
   "cell_type": "markdown",
   "metadata": {},
   "source": [
    "**Esecuzione**"
   ]
  },
  {
   "cell_type": "code",
   "execution_count": 8,
   "metadata": {},
   "outputs": [
    {
     "name": "stdout",
     "output_type": "stream",
     "text": [
      "[[0, 0], [0, 0]]\n",
      "[[0, 0], [0, 1]]\n",
      "[[0, 0], [0, 2]]\n",
      "[[0, 0], [1, 1]]\n",
      "[[0, 0], [1, 2]]\n",
      "[[0, 0], [2, 2]]\n",
      "[[0, 1], [0, 1]]\n",
      "[[0, 1], [0, 2]]\n",
      "[[0, 1], [1, 1]]\n",
      "[[0, 1], [1, 2]]\n",
      "[[0, 1], [2, 2]]\n",
      "[[0, 2], [0, 2]]\n",
      "[[0, 2], [1, 2]]\n",
      "[[0, 2], [2, 2]]\n",
      "[[1, 1], [1, 1]]\n",
      "[[1, 1], [1, 2]]\n",
      "[[1, 1], [2, 2]]\n",
      "[[1, 2], [1, 2]]\n",
      "[[1, 2], [2, 2]]\n",
      "[[2, 2], [2, 2]]\n"
     ]
    }
   ],
   "source": [
    "stampaMatrici(2, 2)"
   ]
  }
 ],
 "metadata": {
  "kernelspec": {
   "display_name": "stable",
   "language": "python",
   "name": "python3"
  },
  "language_info": {
   "codemirror_mode": {
    "name": "ipython",
    "version": 3
   },
   "file_extension": ".py",
   "mimetype": "text/x-python",
   "name": "python",
   "nbconvert_exporter": "python",
   "pygments_lexer": "ipython3",
   "version": "3.9.16"
  },
  "orig_nbformat": 4
 },
 "nbformat": 4,
 "nbformat_minor": 2
}
