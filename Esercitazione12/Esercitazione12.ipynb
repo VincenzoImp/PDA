{
 "cells": [
  {
   "attachments": {},
   "cell_type": "markdown",
   "metadata": {},
   "source": [
    "# Esercitazione 10"
   ]
  },
  {
   "attachments": {},
   "cell_type": "markdown",
   "metadata": {},
   "source": [
    "## Es 1. Sequenze numero dispari a/b"
   ]
  },
  {
   "cell_type": "markdown",
   "metadata": {},
   "source": [
    "**Testo**"
   ]
  },
  {
   "cell_type": "markdown",
   "metadata": {},
   "source": [
    "Dare lo pseudo-codice di un algoritmo che dato l’intero n, stampa tutte le stringhe lunghe n con simboli in {a, b} che contengono un numero dispari di simboli a ed un numero dispari di simboli b.\n",
    "\\\n",
    "Ad esempio per n = 3 non viene stampato nulla mentre per n = 4, le stringhe da stampare sono:\n",
    "\\\n",
    "abbb babb bbab bbba baaa abaa aaba aaab\n",
    "\\\n",
    "L’algoritmo deve avere complessita' O(nS(n)) dove S(n) e' il numero di stringhe da stampare. Motivare la complessit`a del vostro algoritmo."
   ]
  },
  {
   "cell_type": "markdown",
   "metadata": {},
   "source": [
    "**Idea**"
   ]
  },
  {
   "cell_type": "markdown",
   "metadata": {},
   "source": []
  },
  {
   "cell_type": "markdown",
   "metadata": {},
   "source": [
    "**Soluzione**"
   ]
  },
  {
   "cell_type": "code",
   "execution_count": 1,
   "metadata": {},
   "outputs": [],
   "source": [
    "def stampaDispariAux(x, i, n, na, nb):\n",
    "\tif i==n: \n",
    "\t\tif na % 2 != 0:\n",
    "\t\t\tprint(''.join(x))\n",
    "\telse:\t\t\n",
    "\t\tx[i]='a'\t\t\n",
    "\t\tstampaDispariAux(x, i+1, n, na+1, nb)\n",
    "\t\tx[i]='b'\t\t\n",
    "\t\tstampaDispariAux(x, i+1, n, na, nb+1)\n",
    "\n",
    "def stampaDispari(n):\n",
    "\tx = [None for _ in range(n)]\n",
    "\tif n % 2 == 0:\n",
    "\t\tstampaDispariAux(x, 0, n, 0, 0)\n",
    "\n",
    "# L'algoritmo precedente arriva all'ultimo carattere e decide se stampare o meno\n",
    "# la sequenza: il che significa che le genera tutte e 2^n.\n",
    "# E' possibile fare meglio e generare solo quelle \"giuste\" al prezzo di complicare \n",
    "# un pochino la soluzione\t\t\n",
    "\n",
    "def allC(x, i, n, c):\n",
    "\tfor j in range(i,n):\n",
    "\t\tx[j] = c\n",
    "\tprint(''.join(x))\n",
    "\n",
    "def stampaKa(x, i, n, k):\n",
    "\tif i==n:\n",
    "\t\tprint(''.join(x))\n",
    "\telif k == n-i:\n",
    "\t\t# mi mancano k 'a' da mettere e ho k posizioni da sistemare\n",
    "\t\tallC(x, i, n, 'a')\n",
    "\telif k==0:\n",
    "\t\t# ho messo tutte le 'a' e devo completare con tutte 'b'\n",
    "\t\tallC(x, i, n, 'b')\n",
    "\telse:\t \t\n",
    "\t\tx[i]='a'\t\t\n",
    "\t\tstampaKa(x, i+1, n, k-1)\n",
    "\t\tx[i]='b'\t\t\n",
    "\t\tstampaKa(x, i+1, n, k)\n",
    "\t\t\n",
    "def stampaDispariOpt(n):\n",
    "\tx = [None for _ in range(n)]\n",
    "\tif n % 2 == 0:\n",
    "\t\tfor k in range(1,n,2):\n",
    "\t\t\tstampaKa(x, 0, n, k)"
   ]
  },
  {
   "cell_type": "markdown",
   "metadata": {},
   "source": [
    "**Esecuzione**"
   ]
  },
  {
   "cell_type": "code",
   "execution_count": 2,
   "metadata": {},
   "outputs": [
    {
     "name": "stdout",
     "output_type": "stream",
     "text": [
      "ab\n",
      "ba\n",
      "abbb\n",
      "babb\n",
      "bbab\n",
      "bbba\n",
      "aaab\n",
      "aaba\n",
      "abaa\n",
      "baaa\n"
     ]
    }
   ],
   "source": [
    "stampaDispariOpt(2)\n",
    "stampaDispariOpt(4)"
   ]
  },
  {
   "cell_type": "markdown",
   "metadata": {},
   "source": [
    "## Es 2. m,n,k"
   ]
  },
  {
   "cell_type": "markdown",
   "metadata": {},
   "source": [
    "**Testo**"
   ]
  },
  {
   "cell_type": "markdown",
   "metadata": {},
   "source": [
    "Dare lo pseudo-codice di un algoritmo che presi i tre interi n, m e k, stampa tutte le sequenze di n interi positivi con interi di valore al piu'\n",
    "m e nelle quali nessun intero compare pi`u di k volte. Ad esempio per n = 3, m = 2 e k = 2 le sequenze da stampare sono:\n",
    "\\\n",
    "1,1,2 - 1,2,1 - 2,1,1 - 1,2,2 - 2,1,2 - 1,2,2\n",
    "\\\n",
    "L’algoritmo deve avere complessita' O(nS(n)) dove S(n) e' il numero di sequenza da stampare. Motivare la complessita' del vostro algoritmo."
   ]
  },
  {
   "cell_type": "markdown",
   "metadata": {},
   "source": [
    "**Idea**"
   ]
  },
  {
   "cell_type": "markdown",
   "metadata": {},
   "source": [
    "tenere un vettore indicizzato su [1,..,m] che tiene quanti numeri j sono stati messi nella sequenza che si sta generando (ovviamente questa e' informazione ridondante, ma evita di riguardarsi x ogni volta)"
   ]
  },
  {
   "cell_type": "markdown",
   "metadata": {},
   "source": [
    "**Soluzione**"
   ]
  },
  {
   "cell_type": "code",
   "execution_count": 3,
   "metadata": {},
   "outputs": [],
   "source": [
    "def generaSeq(n, m, k):\n",
    "\tT = [0 for _ in range(m+1)]  # occorrenze dell'intero i usate in x \n",
    "\tx = [None for _ in range(n)] # sequenza in costruzione\n",
    "\tgeneraAux(n, m, k, x, 0, T)\n",
    "\n",
    "def generaAux(n, m, k, x, i, T):\n",
    "\tif i==n:\n",
    "\t\tprint(x)\n",
    "\t\treturn\n",
    "\tfor j in range(1, m+1):\n",
    "\t\tif T[j]<k:\n",
    "\t\t\tT[j] += 1\n",
    "\t\t\tx[i] = j\n",
    "\t\t\tgeneraAux(n, m, k, x, i+1, T)\n",
    "\t\t\tT[j] -= 1"
   ]
  },
  {
   "cell_type": "markdown",
   "metadata": {},
   "source": [
    "**Esecuzione**"
   ]
  },
  {
   "cell_type": "code",
   "execution_count": 4,
   "metadata": {},
   "outputs": [
    {
     "name": "stdout",
     "output_type": "stream",
     "text": [
      "[1, 1, 2]\n",
      "[1, 2, 1]\n",
      "[1, 2, 2]\n",
      "[2, 1, 1]\n",
      "[2, 1, 2]\n",
      "[2, 2, 1]\n"
     ]
    }
   ],
   "source": [
    "generaSeq(3, 2, 2)"
   ]
  },
  {
   "cell_type": "markdown",
   "metadata": {},
   "source": [
    "## Es 3. Matrici binarie senza 1 adiacenti"
   ]
  },
  {
   "cell_type": "markdown",
   "metadata": {},
   "source": [
    "**Testo**"
   ]
  },
  {
   "cell_type": "markdown",
   "metadata": {},
   "source": [
    "Dare lo pseudo-codice di un algoritmo che dato l’intero n, stampa tutte le matrici binarie n x n con la proprieta' che nella matrice non compaiono mai due uni adiacenti in orizzontale, in verticale o in diagonale.\n",
    "\\\n",
    "L’algoritmo deve avere complessita' O(n2S(n)) dove S(n) e' il numero di matrici da stampare. Motivare la complessita' del vostro algoritmo."
   ]
  },
  {
   "cell_type": "markdown",
   "metadata": {},
   "source": [
    "**Idea**"
   ]
  },
  {
   "cell_type": "markdown",
   "metadata": {},
   "source": []
  },
  {
   "cell_type": "markdown",
   "metadata": {},
   "source": [
    "**Soluzione**"
   ]
  },
  {
   "cell_type": "code",
   "execution_count": 5,
   "metadata": {},
   "outputs": [],
   "source": [
    "def stampaMatriciAux(M, i, j):\n",
    "\tn = len(M)\n",
    "\tm = len(M[0])\n",
    "\tif i == n: #and j == m-1:\n",
    "\t\tprint(M)\n",
    "\t\treturn\n",
    "\tif j==m-1:\n",
    "\t\tii = i+1\n",
    "\t\tjj = 0\t\n",
    "\telse:\n",
    "\t\tii = i\n",
    "\t\tjj = j+1\n",
    "\tM[i][j] = 0\n",
    "\tstampaMatriciAux(M, ii, jj)\n",
    "\tif (i == 0 and j == 0) or (i == 0 and  M[i][j-1] == 0) or (j == 0 and M[i-1][j] == 0 and M[i-1][j+1]) or (M[i-1][j] == 0 and M[i][j-1] == 0 and M[i-1][j-1] == 0 and (j+1>n-1 or M[i-1][j+1]==0)):\n",
    "\t\t\tM[i][j] = 1\n",
    "\t\t\tstampaMatriciAux(M, ii, jj)\n",
    "\n",
    "def stampaMatrici(n):\n",
    "\tM = [[None for _ in range(n)] for _ in range(n)]\n",
    "\tstampaMatriciAux(M, 0, 0)"
   ]
  },
  {
   "cell_type": "markdown",
   "metadata": {},
   "source": [
    "**Esecuzione**"
   ]
  },
  {
   "cell_type": "code",
   "execution_count": 6,
   "metadata": {},
   "outputs": [
    {
     "name": "stdout",
     "output_type": "stream",
     "text": [
      "[[0, 0], [0, 0]]\n",
      "[[0, 0], [0, 1]]\n",
      "[[0, 1], [0, 0]]\n",
      "[[0, 1], [1, 0]]\n",
      "[[1, 0], [0, 0]]\n"
     ]
    }
   ],
   "source": [
    "stampaMatrici(2)"
   ]
  }
 ],
 "metadata": {
  "kernelspec": {
   "display_name": "stable",
   "language": "python",
   "name": "python3"
  },
  "language_info": {
   "codemirror_mode": {
    "name": "ipython",
    "version": 3
   },
   "file_extension": ".py",
   "mimetype": "text/x-python",
   "name": "python",
   "nbconvert_exporter": "python",
   "pygments_lexer": "ipython3",
   "version": "3.9.16"
  },
  "orig_nbformat": 4
 },
 "nbformat": 4,
 "nbformat_minor": 2
}
