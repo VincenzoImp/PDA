{
 "cells": [
  {
   "attachments": {},
   "cell_type": "markdown",
   "metadata": {},
   "source": [
    "# Esercitazione 4"
   ]
  },
  {
   "cell_type": "code",
   "execution_count": 1,
   "metadata": {},
   "outputs": [],
   "source": [
    "import networkx as nx\n",
    "import copy"
   ]
  },
  {
   "cell_type": "code",
   "execution_count": 2,
   "metadata": {},
   "outputs": [],
   "source": [
    "def drawGraph(graph):\n",
    "    G = nx.Graph(graph)\n",
    "    nx.draw_networkx(G, pos=nx.planar_layout(G))\n",
    "\n",
    "def drawDiGraph(di_graph):\n",
    "    G = nx.DiGraph(di_graph)\n",
    "    nx.draw_networkx(G, pos=nx.planar_layout(G))"
   ]
  },
  {
   "attachments": {},
   "cell_type": "markdown",
   "metadata": {},
   "source": [
    "## Es. 1. Dijkstra non dà risultati corretti con pesi negativi"
   ]
  },
  {
   "attachments": {},
   "cell_type": "markdown",
   "metadata": {},
   "source": [
    "**Testo**"
   ]
  },
  {
   "attachments": {},
   "cell_type": "markdown",
   "metadata": {},
   "source": [
    "Sia G = (V,E) un qualsiasi grafo orientato con pesi sugli archi, pesi che possono essere anche negativi ma in cui non sono presenti cicli di peso negativo. \n",
    "1. Dimostrare che l’algoritmo di Dijkstra su grafi di questo tipo non calcola necessariamente i cammini di costo minimo tra la sorgente e gli altri nodi del grafo.\n",
    "2. Per il calcolo dei cammini di costo minimo in G si suggerisce il seguente algoritmo: \n",
    "Sia M il costo minimo tra i costi degli archi di G. \"Modifichiamo i pesi degli archi di G sommando a ciascuno di questi l’intero |M| abbastanza grande da renderli tutti positivi. Al grafo che si ottiene G’ (che ha pesi positivi) applichiamo l’algoritmo di Dijkstra\". \n",
    "I cammini minimi che vengono cosi’ calcolati sono anche cammini minimi per il grafo originale G? Motivare la risposta."
   ]
  },
  {
   "attachments": {},
   "cell_type": "markdown",
   "metadata": {},
   "source": [
    "**Soluzione**"
   ]
  },
  {
   "attachments": {},
   "cell_type": "markdown",
   "metadata": {},
   "source": [
    "1. L’algoritmo di Dijkstra fallisce con archi di peso negativo. Sostanzialmente perché via via seleziona i nodi più vicini alla radice (un po’ come una BFS, ma generalizzando la nozione di vicinanza con i pesi sugli archi).\n",
    "Tuttavia, un nodo che “sembrava” stabilizzato alla sua distanza minima potrebbe essere raggiunto da un cammino di costo minore a causa di archi con pesi negativi. E quindi ecco un esempio minimale:\n",
    "\\\n",
    "![img1](img1.png)\n",
    "\\\n",
    "Al nodo v viene assegnata distanza 2, in quanto nodo più vicino a s, e viene ritenuto dall’algoritmo di Dijkstra “stabilizzato” al suo costo minimo. Infatti, con pesi positivi, nessun cammino che passa per u potrà essere migliore."
   ]
  },
  {
   "attachments": {},
   "cell_type": "markdown",
   "metadata": {},
   "source": [
    "2. Purtroppo, aggiungere una costante additiva M ai pesi di tutti gli archi non permette generalizzare l’algoritmo di Dijkstra. Il problema è che la costante additiva M influenza il peso dei cammini in modo diverso a seconda della lunghezza del cammino: w’(p)=w(p) + |p|・M. Il controesempio può essere facilmente derivato dall’esempio precedente, aggiungendo 2 per rendere non negativo l’arco u→v. Questa costante penalizza comunque il cammino s→u→v più del cammino s→v.\n",
    "\\\n",
    "![img2](img2.png)"
   ]
  },
  {
   "attachments": {},
   "cell_type": "markdown",
   "metadata": {},
   "source": [
    "## Es. 2. Cammino superminimo"
   ]
  },
  {
   "attachments": {},
   "cell_type": "markdown",
   "metadata": {},
   "source": [
    "**Testo**"
   ]
  },
  {
   "attachments": {},
   "cell_type": "markdown",
   "metadata": {},
   "source": [
    "Un cammino da un nodo u a un nodo v si dice super-minimo se ha peso minimo tra tutti i cammini da u a v e inoltre tra tutti i cammini di peso minimo da u a v ha il minimo numero di archi. Dato un grafo pesato G tale che i pesi sono interi positivi, si vogliono trovare i cammini super-minimi da un nodo s. \n",
    "\\\n",
    "Ad esempio, nel grafo qui sotto vogliamo il cammino (s, d, c) e non quello di pari peso ma piu’ lungo (s, a, b, c).\n",
    "\\\n",
    "![img3](img3.png)\n",
    "\\\n",
    "Mostrare come modificare i pesi del grafo G in modo tale che applicando Dijkstra al grafo coi nuovi pesi si ottengono i cammini super minimi di G."
   ]
  },
  {
   "attachments": {},
   "cell_type": "markdown",
   "metadata": {},
   "source": [
    "**Soluzione**"
   ]
  },
  {
   "attachments": {},
   "cell_type": "markdown",
   "metadata": {},
   "source": [
    "Occorre perturbare il valore degli archi in modo da favorire i cammini più corti: abbiamo già visto che questo si può ottenere aggiungendo una costante additiva al peso di tutti gli archi. Tuttavia, occorre scegliere tale costante in modo che non faccia diventare sfavorevole un cammino strettamente migliore coi pesi originali.\n",
    "Avendo gli archi pesi interi, due cammini di peso diverso hanno come minima differenza 1. D’altra parte, avendo n nodi, i cammini semplici hanno al più n-1 archi. Quindi, definendo una nuova funzione di costo w’(e) = w(e) + 1/n, abbiamo che ogni cammino p avrà un costo w’(p)=w(p)+|p|/n < w(p)+1. Ergo, il peso dei cammini cambia meno di 1.\n",
    "Conoscendo la precisione del peso degli archi, possiamo applicare questo trucco anche se i pesi non sono interi: se 𝜆 è la minima differenza tra due cammini allora la costante da aggiungere è 𝜆 /n."
   ]
  },
  {
   "attachments": {},
   "cell_type": "markdown",
   "metadata": {},
   "source": [
    "# Es. 3. Contare tutti i cammini minimi"
   ]
  },
  {
   "attachments": {},
   "cell_type": "markdown",
   "metadata": {},
   "source": [
    "**Testo**"
   ]
  },
  {
   "attachments": {},
   "cell_type": "markdown",
   "metadata": {},
   "source": [
    "Dato un grafo orientato G con pesi positivi sugli archi ed un nodo s di G, l’algoritmo di Dijkstra calcola l’albero dei cammini minimi da s ad un qualsiasi altro nodo di G che e’ raggiungibile da s. In generale, tra il nodo s e un altro nodo u di G puo’ esserci piu’ di un cammino minimo. \n",
    "- Descrivere un algoritmo che calcoli per ogni nodo u il numero di tutti i possibili cammini di peso minimo da s a u. \n",
    "- Discutere la complessita’ dell’algoritmo."
   ]
  },
  {
   "attachments": {},
   "cell_type": "markdown",
   "metadata": {},
   "source": [
    "**Idea**"
   ]
  },
  {
   "attachments": {},
   "cell_type": "markdown",
   "metadata": {},
   "source": [
    "Per calcolare il numero di tutti i possibili cammini di peso minimo da s ad ogni altro nodo u di un grafo orientato G con pesi positivi sugli archi, si può utilizzare una versione modificata dell'algoritmo di Dijkstra.\n",
    "\\\n",
    "Invece di memorizzare solo il valore della distanza minima tra s e ogni nodo raggiungibile da s, si può anche memorizzare il numero di cammini minimi da s a ogni nodo. Inizialmente, si imposta il numero di cammini minimi da s a s a 1 e tutti gli altri a 0."
   ]
  },
  {
   "attachments": {},
   "cell_type": "markdown",
   "metadata": {},
   "source": [
    "**Soluzione**"
   ]
  },
  {
   "cell_type": "code",
   "execution_count": 2,
   "metadata": {},
   "outputs": [],
   "source": [
    "'''\n",
    "L'algoritmo di Dijkstra ha complessità O((E+V)logV) dove E è il numero di archi, \n",
    "V è il numero di nodi e logV è la complessità dell'operazione di inserimento/estrazione \n",
    "nella heap binaria utilizzata per mantenere i nodi in ordine di distanza.\n",
    "'''\n",
    "\n",
    "import heapq\n",
    "def dijkstra_num_paths(graph, start):\n",
    "    dist = {node: float('inf') for node in graph}\n",
    "    num_paths = {node: 0 for node in graph}\n",
    "    dist[start] = 0\n",
    "    num_paths[start] = 1\n",
    "    heap = [(0, start)]\n",
    "    while heap:\n",
    "        (curr_dist, curr_node) = heapq.heappop(heap)\n",
    "        if curr_dist > dist[curr_node]: continue\n",
    "        for neighbor, weight in graph[curr_node].items():\n",
    "            new_dist = dist[curr_node] + weight\n",
    "            if new_dist < dist[neighbor]:\n",
    "                dist[neighbor] = new_dist\n",
    "                num_paths[neighbor] = num_paths[curr_node]\n",
    "                heapq.heappush(heap, (new_dist, neighbor))\n",
    "            elif new_dist == dist[neighbor]:\n",
    "                num_paths[neighbor] += num_paths[curr_node]\n",
    "    return num_paths"
   ]
  },
  {
   "attachments": {},
   "cell_type": "markdown",
   "metadata": {},
   "source": [
    "# Es. 4. Avendo un vettore dei padri risultato di una BFS, verificare in tempo lineare se rimuovere un arco modifica le distanze"
   ]
  },
  {
   "attachments": {},
   "cell_type": "markdown",
   "metadata": {},
   "source": [
    "**Testo**"
   ]
  },
  {
   "attachments": {},
   "cell_type": "markdown",
   "metadata": {},
   "source": [
    "Dare lo pseudo-codice di un algoritmo che preso in input un grafo non diretto e connesso G, un suo nodo u, un vettore dei padri P relativo a una BFS da u in G e un arco {v, w} di G, ritorna True se e solo se la rimozione dell’arco {v, w} non cambia le distanze da u. L’algoritmo deve avere complessita’ O(n)."
   ]
  },
  {
   "attachments": {},
   "cell_type": "markdown",
   "metadata": {},
   "source": [
    "**Idea**"
   ]
  },
  {
   "attachments": {},
   "cell_type": "markdown",
   "metadata": {},
   "source": [
    "la rimozione di un arco {v, w} modifica le distanze della BFS con radice u solo se l’arco {v,w} fa parte dell’albero di visita"
   ]
  },
  {
   "attachments": {},
   "cell_type": "markdown",
   "metadata": {},
   "source": [
    "**Soluzione**"
   ]
  },
  {
   "cell_type": "code",
   "execution_count": 3,
   "metadata": {},
   "outputs": [],
   "source": [
    "def is_edge_in_tree(P, u, v, w):\n",
    "    figlio, padre = w, P[w]\n",
    "    while padre != figlio:\n",
    "        if figlio == w and padre == v:\n",
    "            return False\n",
    "        figlio, padre = padre, P[padre]\n",
    "    figlio, padre = v, P[v]\n",
    "    while padre != figlio:\n",
    "        if figlio == v and padre == w:\n",
    "            return False\n",
    "        figlio, padre = padre, P[padre]\n",
    "    return True"
   ]
  },
  {
   "attachments": {},
   "cell_type": "markdown",
   "metadata": {},
   "source": [
    "**Esecuzione**"
   ]
  }
 ],
 "metadata": {
  "kernelspec": {
   "display_name": "stable",
   "language": "python",
   "name": "python3"
  },
  "language_info": {
   "codemirror_mode": {
    "name": "ipython",
    "version": 3
   },
   "file_extension": ".py",
   "mimetype": "text/x-python",
   "name": "python",
   "nbconvert_exporter": "python",
   "pygments_lexer": "ipython3",
   "version": "3.9.16"
  },
  "orig_nbformat": 4
 },
 "nbformat": 4,
 "nbformat_minor": 2
}
