{
 "cells": [
  {
   "attachments": {},
   "cell_type": "markdown",
   "metadata": {},
   "source": [
    "# Esercitazione 8"
   ]
  },
  {
   "attachments": {},
   "cell_type": "markdown",
   "metadata": {},
   "source": [
    "## Es 1. Calcolo dell'ottimo momento di acquisto/vendita"
   ]
  },
  {
   "attachments": {},
   "cell_type": "markdown",
   "metadata": {},
   "source": [
    "**Testo**"
   ]
  },
  {
   "attachments": {},
   "cell_type": "markdown",
   "metadata": {},
   "source": [
    "In una sequenza S = (a1, a2 ..., an) di interi positivi, l’intero ai rappresenta il prezzo di una certa merce fra i giorni, si vuole sapere qual’è il giorno i in cui conviene comprare la merce ed il giorno j, con j >= i, in cui conviene rivenderla in modo da massimizzare il profitto. In altre parole siamo interessati a conoscere la coppia (i, j) con i <= j per cui risulta massimo il valore aj - ai. Descrivere un algoritmo che risolve il problema in O(n) tempo."
   ]
  },
  {
   "attachments": {},
   "cell_type": "markdown",
   "metadata": {},
   "source": [
    "**Idea**"
   ]
  },
  {
   "attachments": {},
   "cell_type": "markdown",
   "metadata": {},
   "source": [
    "Ecco un algoritmo che risolve il problema in tempo lineare O(n):\n",
    "1. Inizializza le variabili max_profit a 0, buy_day e sell_day a 1.\n",
    "2. Per ogni giorno current_day da 2 a n:\n",
    "    - Se il prezzo della merce in current_day è inferiore al prezzo della merce nel giorno buy_day, imposta buy_day su current_day.\n",
    "    - Altrimenti, calcola il profitto potenziale (potential_profit) come la differenza tra il prezzo della merce in current_day e il prezzo della merce nel giorno buy_day. Se potential_profit è maggiore di max_profit e current_day è maggiore o uguale a buy_day, imposta max_profit su potential_profit e sell_day su current_day.\n",
    "3. Restituisci la coppia (buy_day, sell_day) come risultato."
   ]
  },
  {
   "attachments": {},
   "cell_type": "markdown",
   "metadata": {},
   "source": [
    "**Soluzione**"
   ]
  },
  {
   "cell_type": "code",
   "execution_count": 1,
   "metadata": {},
   "outputs": [],
   "source": [
    "def find_best_days(prices):\n",
    "    n = len(prices)\n",
    "    max_profit = 0\n",
    "    buy_day = 0\n",
    "    sell_day = 0\n",
    "    for current_day in range(n):\n",
    "        if prices[current_day] < prices[buy_day]:\n",
    "            buy_day = current_day\n",
    "            sell_day = current_day\n",
    "        elif prices[current_day] - prices[buy_day] > max_profit:\n",
    "            max_profit = prices[current_day] - prices[buy_day]\n",
    "            sell_day = current_day\n",
    "    return (buy_day, sell_day)"
   ]
  },
  {
   "attachments": {},
   "cell_type": "markdown",
   "metadata": {},
   "source": [
    "**Esecuzione**"
   ]
  },
  {
   "cell_type": "code",
   "execution_count": 2,
   "metadata": {},
   "outputs": [
    {
     "name": "stdout",
     "output_type": "stream",
     "text": [
      "Giorno di acquisto: 1; Giorno di vendita: 4\n",
      "Giorno di acquisto: 4; Giorno di vendita: 4\n",
      "Giorno di acquisto: 1; Giorno di vendita: 5\n"
     ]
    }
   ],
   "source": [
    "buy_day, sell_day = find_best_days([7, 1, 5, 3, 6, 4])\n",
    "print(\"Giorno di acquisto: {}; Giorno di vendita: {}\".format(buy_day, sell_day))\n",
    "\n",
    "buy_day, sell_day = find_best_days([7, 6, 4, 3, 1])\n",
    "print(\"Giorno di acquisto: {}; Giorno di vendita: {}\".format(buy_day, sell_day))\n",
    "\n",
    "buy_day, sell_day = find_best_days([3, 1, 2, 5, 4, 7])\n",
    "print(\"Giorno di acquisto: {}; Giorno di vendita: {}\".format(buy_day, sell_day))"
   ]
  },
  {
   "attachments": {},
   "cell_type": "markdown",
   "metadata": {},
   "source": [
    "# Es 2. Massima sotto-matrice di tutti 1 in una matrice di 0 e 1"
   ]
  },
  {
   "attachments": {},
   "cell_type": "markdown",
   "metadata": {},
   "source": [
    "**Testo**"
   ]
  },
  {
   "attachments": {},
   "cell_type": "markdown",
   "metadata": {},
   "source": [
    "Data una matrice quadrata binaria M di dimensione n x n si vuole sapere qual’è il massimo m per cui la matrice quadrata m x m di soli uni risulta sottomatrice di M. Descrivere un algoritmo che, data la matrice M, risolve il problema in tempo O(n^3)."
   ]
  },
  {
   "attachments": {},
   "cell_type": "markdown",
   "metadata": {},
   "source": [
    "**Soluzione**"
   ]
  },
  {
   "cell_type": "code",
   "execution_count": 3,
   "metadata": {},
   "outputs": [],
   "source": [
    "def matriceUni(M):\n",
    "\tm = len(M)\n",
    "\tU = [[y for y in x] for x in M]\n",
    "\tri, rj = -1, -1\n",
    "\t# inizializzazione dmax: se sono tutti 0 in M, dmax = 0 altrimenti 1\n",
    "\tdmax = 0\n",
    "\tfor i in range(m):\n",
    "\t\tfor j in range(m):\n",
    "\t\t\tif U[i][j]:\n",
    "\t\t\t\tdmax, ri, rj = 1, i, j\n",
    "\t# si comincia a vedere le matrici di lato 2\n",
    "\td = 2\n",
    "\twhile d == dmax + 1:\n",
    "\t\t# INV: U[i][j] == dmax, se M[i][j] e' l'angolo in alto a sinistra\n",
    "\t\t# di una matrice di lato dmax di tutti 1\n",
    "\t\tfor i in range(0,m-d+1):\n",
    "\t\t\tfor j in range(0,m-d+1):\n",
    "\t\t\t\tif U[i][j]>0 and U[i+1][j]>0 and U[i][j+1]>0 and U[i+1][j+1]>0:\n",
    "\t\t\t\t# se i 4 elementi in alto a sinistra sono tutti positivi\n",
    "\t\t\t\t# ci sono 4 matrici di lato dmax-1 di tutti 1\n",
    "\t\t\t\t# quindi c'e' una matrice di lato dmax di tutti 1\t\n",
    "\t\t\t\t\tdmax, U[i][j], ri, rj = d, d, i, j\n",
    "\t\t\t\telse:\n",
    "\t\t\t\t\tU[i][j] = 0\t\n",
    "\t\t# notare che alla fine U[i][j] e' il lato della piu' grande \n",
    "\t\t# matrice di tutti uno con i,j come angolo in alto a sinistra \n",
    "\t\td = d+1\n",
    "\treturn dmax, ri, rj"
   ]
  },
  {
   "attachments": {},
   "cell_type": "markdown",
   "metadata": {},
   "source": [
    "**Esecuzione**"
   ]
  },
  {
   "cell_type": "code",
   "execution_count": 4,
   "metadata": {},
   "outputs": [
    {
     "name": "stdout",
     "output_type": "stream",
     "text": [
      "(3, 1, 0)\n",
      "(1, 1, 2)\n",
      "(0, -1, -1)\n",
      "(3, 1, 1)\n",
      "(4, 0, 0)\n"
     ]
    }
   ],
   "source": [
    "M = [\n",
    "\t[1,0,1,1,1],\n",
    "\t[1,1,1,1,1],\n",
    "\t[1,1,1,0,1],\n",
    "\t[1,1,1,1,1],\n",
    "\t[1,1,0,1,1]]\n",
    "print(matriceUni(M))\n",
    "M = [\n",
    "\t[0,0,0,0,0],\n",
    "\t[0,0,1,0,0],\n",
    "\t[0,0,0,0,0],\n",
    "\t[0,0,0,0,0],\n",
    "\t[0,0,0,0,0]]\n",
    "print(matriceUni(M))\n",
    "M = [\n",
    "\t[0,0,0,0,0],\n",
    "\t[0,0,0,0,0],\n",
    "\t[0,0,0,0,0],\n",
    "\t[0,0,0,0,0],\n",
    "\t[0,0,0,0,0]]\n",
    "print(matriceUni(M))\n",
    "M = [\n",
    "\t[1,1,0,0],\n",
    "\t[1,1,1,1],\n",
    "\t[0,1,1,1],\n",
    "\t[0,1,1,1]]\n",
    "print(matriceUni(M))\n",
    "M = [\n",
    "\t[1,1,1,1],\n",
    "\t[1,1,1,1],\n",
    "\t[1,1,1,1],\n",
    "\t[1,1,1,1]]\n",
    "print(matriceUni(M))"
   ]
  }
 ],
 "metadata": {
  "kernelspec": {
   "display_name": "stable",
   "language": "python",
   "name": "python3"
  },
  "language_info": {
   "codemirror_mode": {
    "name": "ipython",
    "version": 3
   },
   "file_extension": ".py",
   "mimetype": "text/x-python",
   "name": "python",
   "nbconvert_exporter": "python",
   "pygments_lexer": "ipython3",
   "version": "3.9.16"
  },
  "orig_nbformat": 4
 },
 "nbformat": 4,
 "nbformat_minor": 2
}
