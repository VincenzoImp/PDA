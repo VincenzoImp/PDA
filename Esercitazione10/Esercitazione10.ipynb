{
 "cells": [
  {
   "attachments": {},
   "cell_type": "markdown",
   "metadata": {},
   "source": [
    "# Esercitazione 10"
   ]
  },
  {
   "attachments": {},
   "cell_type": "markdown",
   "metadata": {},
   "source": [
    "## Es 1. M-lista di valore minimo"
   ]
  },
  {
   "cell_type": "markdown",
   "metadata": {},
   "source": [
    "**Testo**"
   ]
  },
  {
   "cell_type": "markdown",
   "metadata": {},
   "source": [
    "Data una matrice n x m di interi M = [mi,j], una M-lista e' una sequenza (m1,j1 , m2,j2 ...mn,jm) tale che 1 <= j1 <= ... jm <= m. Il valore di una M-lista e' la somma degli elementi che la compongono. Progettare un algoritmo che trova un M-lista di valore minimo in O(nm)"
   ]
  },
  {
   "cell_type": "markdown",
   "metadata": {},
   "source": [
    "**Idea**"
   ]
  },
  {
   "cell_type": "markdown",
   "metadata": {},
   "source": [
    "tengo una tabella T della stessa dimensione di M T[i][j] sara' il valore minimo di una m-lista di lunghezza j T[i][j] viene computata per colonne. Ad esempio:\n",
    "\\\n",
    "T[i][0] e' il min_{k in [0,i]} M[k][0]\n",
    "\\\n",
    "T[i][j+1] e' il min_{k<l in [0,i]} T[k][j]+T[l][j+1]\n",
    " "
   ]
  },
  {
   "cell_type": "markdown",
   "metadata": {},
   "source": [
    "**Soluzione**"
   ]
  },
  {
   "cell_type": "code",
   "execution_count": 1,
   "metadata": {},
   "outputs": [],
   "source": [
    "def mLista(M):\n",
    "\tn = len(M)\n",
    "\tm = len(M[0])\n",
    "\tT = [[None for _ in range(m)] for _ in range(n)]\n",
    "\tT[0][0] = M[0][0]\n",
    "\tfor i in range(1,m):\n",
    "\t\tT[0][i] = T[0][i-1]+M[0][i] \n",
    "\tfor i in range(1,n):\n",
    "\t\tT[i][0] = min(T[i-1][0],M[i][0])\n",
    "\tfor i in range(1,n):\n",
    "\t\tfor j in range(1,m):\n",
    "\t\t\tT[i][j] = min(T[i-1][j],T[i][j-1]+M[i][j])\t\n",
    "\treturn T \n",
    "\n",
    "def ricostruisci(T):\n",
    "\tn = len(T)\n",
    "\tm = len(T[0])\n",
    "\ti = n-1\n",
    "\tres = []\n",
    "\tfor j in reversed(range(0,m)):\n",
    "\t\twhile (i>0 and T[i-1][j]==T[i][j]):\n",
    "\t\t\ti -= 1\n",
    "\t\tres = [i] + res\n",
    "\treturn res\t \t"
   ]
  },
  {
   "cell_type": "markdown",
   "metadata": {},
   "source": [
    "**Esecuzione**"
   ]
  },
  {
   "cell_type": "code",
   "execution_count": 2,
   "metadata": {},
   "outputs": [
    {
     "name": "stdout",
     "output_type": "stream",
     "text": [
      "[[3, 7, 14, 9], [1, 6, 7, 8], [-1, 2, 6, 8]]\n",
      "[1, 1, 1, 1]\n",
      "[[3, 5, 12, 9], [1, 5, 6, 7], [-1, 2, 6, 7]]\n",
      "[0, 0, 1, 1]\n"
     ]
    }
   ],
   "source": [
    "M = [[3,4,7,-5],[1,5,1,1],[-1,3,4,5]]\n",
    "T = mLista(M)\n",
    "seq = ricostruisci(T)\n",
    "print(T)\n",
    "print(seq)\n",
    "M2 = [[3,2,7,-3],[1,5,1,1],[-1,3,4,5]]\n",
    "T2 = mLista(M2)\n",
    "seq2 = ricostruisci(T2)\n",
    "print(T2) \n",
    "print(seq2)"
   ]
  },
  {
   "cell_type": "markdown",
   "metadata": {},
   "source": [
    "## Es 2. Sequenze/Multi-insiemi di somma n"
   ]
  },
  {
   "cell_type": "markdown",
   "metadata": {},
   "source": [
    "**Testo**"
   ]
  },
  {
   "cell_type": "markdown",
   "metadata": {},
   "source": [
    "Vengono dati in input tre interi positivi x1, x2 e x3, con x1 < x2 < x3, ed un intero positivo n.\n",
    "- Scrivere lo pseudocodice di un algoritmo che in tempo O(n) restituisce il numero di sequenze sull’alfabeto {x1, x2, x3} la somma dei cui elementi e' n. Ad esempio per x1 = 2, x2 = 4, x3 = 8 e n = 10 la risposta deve essere 10, le uniche sequenze possibili sono infatti:\n",
    "2,8 - 8,2 - 2,4,4 - 4,2,4 - 4,4,2 - 2,2,2,4 - 2,2,4,2 - 2,4,2,2 - 4,2,2,2 - 2,2,2,2\n",
    "- Scrivere lo pseudocodice di un algoritmo che in tempo O(n) restituisce il numero di multiinsiemi sull’alfabeto {x1, x2, x3} la somma dei cui elementi\n",
    "e' n. Ad esempio per x1 = 2, x2 = 4, x3 = 8 e n = 10 la risposta deve essere 4, gli unici multiinsiemi possibili sono infatti:\n",
    "2,8 - 2,4,4 - 2,2,2,4 - 2,2,2,2"
   ]
  },
  {
   "cell_type": "markdown",
   "metadata": {},
   "source": [
    "**Idea**"
   ]
  },
  {
   "cell_type": "markdown",
   "metadata": {},
   "source": [
    "Allocare una matrice T con i percorsi piu' lunghi gia' computati inizialmente -1 (non computato) poi si computano tutti con la programmazione dinamica"
   ]
  },
  {
   "cell_type": "markdown",
   "metadata": {},
   "source": [
    "**Soluzione**"
   ]
  },
  {
   "cell_type": "code",
   "execution_count": 3,
   "metadata": {},
   "outputs": [],
   "source": [
    "def camminoMaxAux(M,i,j,T,v):\n",
    "\tn = len(M)\n",
    "\t# mi fermo se l'elemento corrente non e' il successivo del precedente\n",
    "\tif M[i][j] != v and M[i][j]!=v+1 :\t\n",
    "\t\treturn 0\n",
    "\t# calcolo il massimo tra tutti i percorsi (alto, sinistra, basso, destra)\n",
    "\t# se il valore non e' gia' disponibile in T[i][j]\t\n",
    "\tif T[i][j]<0:\n",
    "\t\tm1, m2, m3, m4 = 0,0,0,0\t\n",
    "\t\tif i-1 >= 0:\n",
    "\t\t\tm1 = camminoMaxAux(M, i-1, j, T, M[i][j])\n",
    "\t\tif j-1 >=0:\n",
    "\t\t\tm2 = camminoMaxAux(M, i, j-1, T, M[i][j])\n",
    "\t\tif i+1 < n:\t\t\n",
    "\t\t\tm3 = camminoMaxAux(M, i+1, j, T, M[i][j])\n",
    "\t\tif j+1 < n:\t\t\n",
    "\t\t\tm4 = camminoMaxAux(M, i, j+1, T, M[i][j])\n",
    "\t\t# aggiorno T[i][j]\t\n",
    "\t\tT[i][j]\t= 1 + max(m1,m2,m3,m4)\n",
    "\treturn T[i][j]\n",
    "\n",
    "def camminoMax(M):\n",
    "\tn = len(M)\n",
    "\tT = [[-1 for _ in range(n)] for _ in range(n)]\n",
    "\tfor i in range(n):\n",
    "\t\tfor j in range(n):\n",
    "\t\t# calcolo quelli non ancora computati dalla funzione ausiliaria ricorsiva\t\n",
    "\t\t\tif T[i][j]<0:\n",
    "\t\t\t\tT[i][j] = camminoMaxAux(M, i, j, T, M[i][j])\n",
    "\treturn T\t"
   ]
  },
  {
   "cell_type": "markdown",
   "metadata": {},
   "source": [
    "**Esecuzione**"
   ]
  },
  {
   "cell_type": "code",
   "execution_count": 4,
   "metadata": {},
   "outputs": [
    {
     "name": "stdout",
     "output_type": "stream",
     "text": [
      "[[1, 1, 1], [1, 1, 1], [1, 1, 1]]\n",
      "1\n",
      "[[1, 1, 2], [2, 6, 3], [1, 5, 4]]\n",
      "6\n"
     ]
    }
   ],
   "source": [
    "A =[[3,6,2],[7,1,9],[4,8,5]]\n",
    "B =[[9,7,6],[8,2,5],[1,3,4]]\n",
    "T = camminoMax(A)\n",
    "print(T)\n",
    "print(max(max(T)))\n",
    "T = camminoMax(B)\n",
    "print(T)\n",
    "print(max(max(T)))"
   ]
  }
 ],
 "metadata": {
  "kernelspec": {
   "display_name": "stable",
   "language": "python",
   "name": "python3"
  },
  "language_info": {
   "codemirror_mode": {
    "name": "ipython",
    "version": 3
   },
   "file_extension": ".py",
   "mimetype": "text/x-python",
   "name": "python",
   "nbconvert_exporter": "python",
   "pygments_lexer": "ipython3",
   "version": "3.9.16"
  },
  "orig_nbformat": 4
 },
 "nbformat": 4,
 "nbformat_minor": 2
}
