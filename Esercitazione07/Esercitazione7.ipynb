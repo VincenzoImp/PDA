{
 "cells": [
  {
   "attachments": {},
   "cell_type": "markdown",
   "metadata": {},
   "source": [
    "# Esercitazione 7"
   ]
  },
  {
   "attachments": {},
   "cell_type": "markdown",
   "metadata": {},
   "source": [
    "## Es 1. Trovare l'eventuale punto fisso in un vettore crescente"
   ]
  },
  {
   "attachments": {},
   "cell_type": "markdown",
   "metadata": {},
   "source": [
    "**Testo**"
   ]
  },
  {
   "attachments": {},
   "cell_type": "markdown",
   "metadata": {},
   "source": [
    "Progettare un algoritmo che, preso un vettore ordinato V di n interi distinti,\n",
    "determini se esiste un indice i tale che V [i] = i in O(log n) tempo."
   ]
  },
  {
   "attachments": {},
   "cell_type": "markdown",
   "metadata": {},
   "source": [
    "**Idea**"
   ]
  },
  {
   "attachments": {},
   "cell_type": "markdown",
   "metadata": {},
   "source": [
    "Dato il punto medio m del vettore controllare se V[m] è uguale ad m, in tal caso il punto fisso è stato trovato. Altrimenti:\n",
    "- se V[m] > m allora cerco a sinistra\n",
    "- se V[m] < m allora cerco a destra"
   ]
  },
  {
   "attachments": {},
   "cell_type": "markdown",
   "metadata": {},
   "source": [
    "**Soluzione**"
   ]
  },
  {
   "cell_type": "code",
   "execution_count": 1,
   "metadata": {},
   "outputs": [],
   "source": [
    "def utilfixpoint(V, start, end):\n",
    "    if start > end:\n",
    "        return False\n",
    "    m = (start + end) // 2\n",
    "    if V[m] == m:\n",
    "        return True\n",
    "    elif V[m] > m:\n",
    "        return utilfixpoint(V, start, m - 1)\n",
    "    else:\n",
    "        return utilfixpoint(V, m + 1, end)\n",
    "    \n",
    "def fixpoint(V):\n",
    "    return utilfixpoint(V, 0, len(V) - 1)"
   ]
  },
  {
   "attachments": {},
   "cell_type": "markdown",
   "metadata": {},
   "source": [
    "**Esecuzione**"
   ]
  },
  {
   "cell_type": "code",
   "execution_count": 2,
   "metadata": {},
   "outputs": [
    {
     "name": "stdout",
     "output_type": "stream",
     "text": [
      "True\n",
      "True\n",
      "False\n"
     ]
    }
   ],
   "source": [
    "V = [-10, -5, 0, 3, 7]\n",
    "print(fixpoint(V))\n",
    "V = [0, 2, 5, 8, 17]\n",
    "print(fixpoint(V))\n",
    "V = [-10, -5, 3, 4, 7, 9]\n",
    "print(fixpoint(V))"
   ]
  },
  {
   "attachments": {},
   "cell_type": "markdown",
   "metadata": {},
   "source": [
    "# Es 2. Trovare gli zeri di un vettore continuo"
   ]
  },
  {
   "attachments": {},
   "cell_type": "markdown",
   "metadata": {},
   "source": [
    "**Testo**"
   ]
  },
  {
   "attachments": {},
   "cell_type": "markdown",
   "metadata": {},
   "source": [
    "Sia V un vettore di n interi. Si dice che V è continuo se per ogni i = 1, 2, ..., n-1, |V[i+1]-V[i]| <= 1. Si dice zero del vettore un indice k tale che V[k] = 0.\n",
    "\\\n",
    "Progettare un algoritmo che, dato un vettore V di n >= 2 interi continuo e tale che V[1] < 0 e V[n] > 0, trovi uno zero in O(log n) tempo."
   ]
  },
  {
   "attachments": {},
   "cell_type": "markdown",
   "metadata": {},
   "source": [
    "**Idea**"
   ]
  },
  {
   "attachments": {},
   "cell_type": "markdown",
   "metadata": {},
   "source": [
    "Per risolvere questo problema in maniera ricorsiva, possiamo utilizzare un algoritmo di ricerca binaria ricorsivo. L'idea è quella di passare l'intervallo di ricerca come parametro della funzione, e poi chiamare la funzione stessa ricorsivamente dimezzando l'intervallo di ricerca.\n",
    "\\\n",
    "Inizialmente, l'intervallo di ricerca è [l, r] dove l = 0 e r = n-1. Ad ogni chiamata ricorsiva, calcoliamo l'indice medio m = (l+r)//2 e verifichiamo se V[m] è uguale a m. Se V[m] > m, allora lo zero si trova nell'intervallo [l, m-1], altrimenti si trova nell'intervallo [m+1, r]. Continuiamo a dimezzare l'intervallo di ricerca finché troviamo lo zero o fino a quando l'intervallo diventa vuoto."
   ]
  },
  {
   "attachments": {},
   "cell_type": "markdown",
   "metadata": {},
   "source": [
    "**Soluzione**"
   ]
  },
  {
   "cell_type": "code",
   "execution_count": 3,
   "metadata": {},
   "outputs": [],
   "source": [
    "def util_find_zero(V, start, end):\n",
    "    if start > end:\n",
    "        return None\n",
    "    m = (start + end) // 2\n",
    "    if V[m] == 0:\n",
    "        return m\n",
    "    elif V[m] > 0:\n",
    "        return util_find_zero(V, start, m - 1)\n",
    "    else:\n",
    "        return util_find_zero(V, m + 1, end)\n",
    "    \n",
    "def find_zero(V):\n",
    "    return util_find_zero(V, 0, len(V) - 1)"
   ]
  },
  {
   "attachments": {},
   "cell_type": "markdown",
   "metadata": {},
   "source": [
    "**Esecuzione**"
   ]
  },
  {
   "cell_type": "code",
   "execution_count": 4,
   "metadata": {},
   "outputs": [
    {
     "name": "stdout",
     "output_type": "stream",
     "text": [
      "3\n",
      "1\n"
     ]
    }
   ],
   "source": [
    "V = [-3, -2, -1, 0, 1, 2, 3]\n",
    "print(find_zero(V))\n",
    "V = [-1, 0, 0, 1]\n",
    "print(find_zero(V))"
   ]
  },
  {
   "attachments": {},
   "cell_type": "markdown",
   "metadata": {},
   "source": [
    "# Es 3. Algoritmo per determinare la radice quadrata intera di n in tempo"
   ]
  },
  {
   "attachments": {},
   "cell_type": "markdown",
   "metadata": {},
   "source": [
    "**Testo**"
   ]
  },
  {
   "attachments": {},
   "cell_type": "markdown",
   "metadata": {},
   "source": [
    "Progettare un algoritmo che, dato un intero n, calcoli l’intero inferiore della radice di n in O(log n) tempo, usando solo operazioni aritmetiche."
   ]
  },
  {
   "attachments": {},
   "cell_type": "markdown",
   "metadata": {},
   "source": [
    "**Idea**"
   ]
  },
  {
   "attachments": {},
   "cell_type": "markdown",
   "metadata": {},
   "source": [
    "Si calcola la radice quadrata intera di n come segue:\n",
    "- Se n è inferiore a 2, restituire n (poiché la radice quadrata di 0 o 1 è 0 o 1).\n",
    "- Altrimenti, calcolare la radice quadrata intera di n // 4 in modo ricorsivo e moltiplicarla per 2 per ottenere un valore iniziale per la parte intera della radice quadrata di n.\n",
    "- Verificare se left o right è la parte intera della radice quadrata di n, dove left è il valore iniziale moltiplicato per 2 e right è left + 1.\n",
    "- Se right * right è maggiore di n, restituire left. Altrimenti, restituire right."
   ]
  },
  {
   "attachments": {},
   "cell_type": "markdown",
   "metadata": {},
   "source": [
    "**Soluzione**"
   ]
  },
  {
   "cell_type": "code",
   "execution_count": 5,
   "metadata": {},
   "outputs": [],
   "source": [
    "def sqrt_int(n):\n",
    "    if n < 2:\n",
    "        return n\n",
    "    else:\n",
    "        left = sqrt_int(n // 4) * 2\n",
    "        right = left + 1\n",
    "        if right * right > n:\n",
    "            return left\n",
    "        else:\n",
    "            return right"
   ]
  },
  {
   "attachments": {},
   "cell_type": "markdown",
   "metadata": {},
   "source": [
    "**Esecuzione**"
   ]
  },
  {
   "cell_type": "code",
   "execution_count": 6,
   "metadata": {},
   "outputs": [
    {
     "name": "stdout",
     "output_type": "stream",
     "text": [
      "3\n",
      "9\n",
      "31\n",
      "32\n",
      "32\n"
     ]
    }
   ],
   "source": [
    "print(sqrt_int(9))\n",
    "print(sqrt_int(81))\n",
    "print(sqrt_int(1000))\n",
    "print(sqrt_int(1024))\n",
    "print(sqrt_int(1025))"
   ]
  },
  {
   "attachments": {},
   "cell_type": "markdown",
   "metadata": {},
   "source": [
    "# Es 4. Trovare il massimo in un vettore ordinato shiftato di k posizioni"
   ]
  },
  {
   "attachments": {},
   "cell_type": "markdown",
   "metadata": {},
   "source": [
    "**Testo**"
   ]
  },
  {
   "attachments": {},
   "cell_type": "markdown",
   "metadata": {},
   "source": [
    "Si supponga di avere in input un vettore ordinato di n interi il cui contenuto è stato ruotato di k posizioni. Supponendo di conoscere solo n, progettare un algoritmo che restituisca l’elemento massimo del vettore in O(log n) tempo."
   ]
  },
  {
   "attachments": {},
   "cell_type": "markdown",
   "metadata": {},
   "source": [
    "**Idea**"
   ]
  },
  {
   "attachments": {},
   "cell_type": "markdown",
   "metadata": {},
   "source": [
    "L'idea è di trovare il punto di rotazione del vettore, ovvero l'indice in cui il vettore viene spezzato e riordinato, e poi confrontare il primo elemento con l'ultimo elemento del vettore per determinare quale è il massimo."
   ]
  },
  {
   "attachments": {},
   "cell_type": "markdown",
   "metadata": {},
   "source": [
    "**Soluzione**"
   ]
  },
  {
   "cell_type": "code",
   "execution_count": 7,
   "metadata": {},
   "outputs": [],
   "source": [
    "def util_findMax(arr, low, high):\n",
    "    # If there is only one element left\n",
    "    if (high == low):\n",
    "        return arr[low]\n",
    "    # Find mid\n",
    "    mid = low + (high - low) // 2\n",
    "    # Check if mid reaches 0 ,it is greater than next element or not\n",
    "    if(mid==0 and arr[mid]>arr[mid+1]):\n",
    "          return arr[mid]\n",
    "    # Check if mid itself is maximum element\n",
    "    if (mid < high and arr[mid + 1] < arr[mid] and mid>0 and arr[mid]>arr[mid-1]):\n",
    "        return arr[mid]\n",
    "    # Decide whether we need to go to the left half or the right half\n",
    "    if (arr[low] > arr[mid]):\n",
    "        return util_findMax(arr, low, mid - 1)\n",
    "    else:\n",
    "        return util_findMax(arr, mid + 1, high)\n",
    "    \n",
    "def findMax(arr):\n",
    "    return util_findMax(arr, 0, len(arr) - 1)\n",
    "    "
   ]
  },
  {
   "cell_type": "code",
   "execution_count": 8,
   "metadata": {},
   "outputs": [
    {
     "name": "stdout",
     "output_type": "stream",
     "text": [
      "7\n",
      "6\n"
     ]
    }
   ],
   "source": [
    "V = [4, 5, 6, 7, 1, 2, 3]\n",
    "print(findMax(V))\n",
    "V = [6, 5, 4, 3, 2, 1, 0]\n",
    "print(findMax(V))"
   ]
  },
  {
   "attachments": {},
   "cell_type": "markdown",
   "metadata": {},
   "source": [
    "# Es. 5. Contare il numero di inversioni in un vettore"
   ]
  },
  {
   "attachments": {},
   "cell_type": "markdown",
   "metadata": {},
   "source": [
    "**Testo**"
   ]
  },
  {
   "cell_type": "markdown",
   "metadata": {},
   "source": [
    "Dato un array, trova il numero totale di inversioni di esso. Se (i < j) e (A[i] > A[j]), quindi accoppia (i, j) è chiamata inversione di un array A. Dobbiamo contare tutte queste coppie nell'array."
   ]
  },
  {
   "attachments": {},
   "cell_type": "markdown",
   "metadata": {},
   "source": [
    "**Idea**"
   ]
  },
  {
   "cell_type": "markdown",
   "metadata": {},
   "source": [
    "Una soluzione semplice sarebbe per ogni elemento dell'array contare tutti gli elementi meno di esso alla sua destra e aggiungere il conteggio all'output. La complessità di questa soluzione è O(n^2), dove n è la dimensione dell'input.\n",
    "\\\n",
    "Questo è un classico problema che può essere risolto con la funzione di merge del mergesort. Fondamentalmente, per ogni elemento dell'array, conta tutti gli elementi in più alla sua sinistra e aggiungi il conteggio all'output.\n"
   ]
  },
  {
   "attachments": {},
   "cell_type": "markdown",
   "metadata": {},
   "source": [
    "**Soluzione**"
   ]
  },
  {
   "cell_type": "code",
   "execution_count": 9,
   "metadata": {},
   "outputs": [],
   "source": [
    "# Unisci due sottoliste ordinate `A[low … mid]` e `A[mid+1 … high]`\n",
    "def merge(A, aux, low, mid, high):\n",
    "    k = i = low\n",
    "    j = mid + 1\n",
    "    inversionCount = 0\n",
    "    # mentre ci sono elementi nelle piste di sinistra e di destra\n",
    "    while i <= mid and j <= high:\n",
    "        if A[i] <= A[j]:\n",
    "            aux[k] = A[i]\n",
    "            i = i + 1\n",
    "        else:\n",
    "            aux[k] = A[j]\n",
    "            j = j + 1\n",
    "            inversionCount += (mid - i + 1)        # NOTA\n",
    "        k = k + 1\n",
    "    # copia gli elementi rimanenti\n",
    "    while i <= mid:\n",
    "        aux[k] = A[i]\n",
    "        k = k + 1\n",
    "        i = i + 1\n",
    "    # copia indietro nell'elenco originale per riflettere l'ordine ordinato\n",
    "    for i in range(low, high + 1):\n",
    "        A[i] = aux[i]\n",
    "    return inversionCount\n",
    " \n",
    "# Ordina la lista `A[low…high]` usando la lista ausiliaria `aux`\n",
    "def conta_inversioni(A, aux, low, high):\n",
    "    # caso base\n",
    "    if high <= low:        # se la dimensione della corsa <= 1\n",
    "        return 0\n",
    "    # trova il punto medio\n",
    "    mid = low + ((high - low) >> 1)\n",
    "    inversionCount = 0\n",
    "    # divide in modo ricorsivamente le corse in due metà fino a quando la dimensione della corsa <= 1,\n",
    "    # quindi li unisce e ritorna alla catena di chiamate\n",
    "    inversionCount += conta_inversioni(A, aux, low, mid)       # divide/unisce la metà sinistra\n",
    "    inversionCount += conta_inversioni(A, aux, mid + 1, high)  # divide/unisci la metà destra\n",
    "    inversionCount += merge(A, aux, low, mid, high)     # unisce le due mezze piste\n",
    "    return inversionCount "
   ]
  },
  {
   "attachments": {},
   "cell_type": "markdown",
   "metadata": {},
   "source": [
    "**Esecuzione**"
   ]
  },
  {
   "cell_type": "code",
   "execution_count": 10,
   "metadata": {},
   "outputs": [
    {
     "name": "stdout",
     "output_type": "stream",
     "text": [
      "5\n",
      "0\n",
      "10\n"
     ]
    }
   ],
   "source": [
    "A = [1, 9, 6, 4, 5]\n",
    "print(conta_inversioni(A, A.copy(), 0, len(A) - 1))\n",
    "\n",
    "A = [1, 2, 3, 4, 5]\n",
    "print(conta_inversioni(A, A.copy(), 0, len(A) - 1))\n",
    "\n",
    "A = [5, 4, 3, 2, 1]\n",
    "print(conta_inversioni(A, A.copy(), 0, len(A) - 1))"
   ]
  },
  {
   "attachments": {},
   "cell_type": "markdown",
   "metadata": {},
   "source": [
    "# Es. 6. Algoritmo che determina il sottovettore di lunghezza massima di spessore al più C"
   ]
  },
  {
   "attachments": {},
   "cell_type": "markdown",
   "metadata": {},
   "source": [
    "**Testo**"
   ]
  },
  {
   "attachments": {},
   "cell_type": "markdown",
   "metadata": {},
   "source": [
    "In un vettore V di interi si dice spessore del vettore la differenza tra il massimo e il minimo del vettore. Progettare un algoritmo che, preso un vettore V di n interi ed un intero C, trovi un sottovettore (una sequenza di elementi consecutivi del vettore) di, lunghezza massima tra quelli di spessore al più C. La complessità dell’algoritmo deve essere O(n log n)."
   ]
  },
  {
   "attachments": {},
   "cell_type": "markdown",
   "metadata": {},
   "source": [
    "**Idea**"
   ]
  },
  {
   "cell_type": "markdown",
   "metadata": {},
   "source": [
    "Per risolvere questo problema, puoi utilizzare un approccio basato sull'algoritmo dei due punti (two-pointer). L'idea di base è di mantenere due puntatori che rappresentano l'inizio e la fine del sottovettore, e spostarli all'interno del vettore in modo intelligente. Inoltre, utilizzeremo una struttura dati che ci consentirà di trovare rapidamente il massimo e il minimo all'interno del sottovettore corrente."
   ]
  },
  {
   "attachments": {},
   "cell_type": "markdown",
   "metadata": {},
   "source": [
    "**Soluzione**"
   ]
  },
  {
   "cell_type": "code",
   "execution_count": 11,
   "metadata": {},
   "outputs": [],
   "source": [
    "def findMaxThicknessSubarray(V, C):\n",
    "    left = 0\n",
    "    right = 0\n",
    "    maxThickness = 0\n",
    "    currentSet = set()\n",
    "    while right < len(V):\n",
    "        currentSet.add(V[right])\n",
    "        max_in_set = max(currentSet)\n",
    "        min_in_set = min(currentSet)\n",
    "        if max_in_set - min_in_set <= C:\n",
    "            if right - left + 1 > maxThickness:\n",
    "                maxThickness = right - left + 1\n",
    "                max_left = left\n",
    "                max_right = right\n",
    "            right += 1\n",
    "        else:\n",
    "            currentSet.remove(V[left])\n",
    "            left += 1\n",
    "    return V[max_left:max_right+1]"
   ]
  },
  {
   "attachments": {},
   "cell_type": "markdown",
   "metadata": {},
   "source": [
    "**Esecuzione**"
   ]
  },
  {
   "cell_type": "code",
   "execution_count": 12,
   "metadata": {},
   "outputs": [
    {
     "name": "stdout",
     "output_type": "stream",
     "text": [
      "[2, 4]\n",
      "[1, 5, 3]\n",
      "[2, 4, 7]\n"
     ]
    }
   ],
   "source": [
    "V = [2, 4, 7, 1, 5, 3]\n",
    "C = 3\n",
    "print(findMaxThicknessSubarray(V, C))\n",
    "\n",
    "V = [2, 4, 7, 1, 5, 3]\n",
    "C = 4\n",
    "print(findMaxThicknessSubarray(V, C))\n",
    "\n",
    "V = [2, 4, 7, 1, 5, 3]\n",
    "C = 5\n",
    "print(findMaxThicknessSubarray(V, C))"
   ]
  }
 ],
 "metadata": {
  "kernelspec": {
   "display_name": "stable",
   "language": "python",
   "name": "python3"
  },
  "language_info": {
   "codemirror_mode": {
    "name": "ipython",
    "version": 3
   },
   "file_extension": ".py",
   "mimetype": "text/x-python",
   "name": "python",
   "nbconvert_exporter": "python",
   "pygments_lexer": "ipython3",
   "version": "3.9.16"
  },
  "orig_nbformat": 4
 },
 "nbformat": 4,
 "nbformat_minor": 2
}
