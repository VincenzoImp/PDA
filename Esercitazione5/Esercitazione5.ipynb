{
 "cells": [
  {
   "attachments": {},
   "cell_type": "markdown",
   "metadata": {},
   "source": [
    "# Esercitazione 5"
   ]
  },
  {
   "attachments": {},
   "cell_type": "markdown",
   "metadata": {},
   "source": [
    "## Es 1. Mostrare che un albero di copertura minimo rimane minimo se si incrementa il peso di tutti gli archi di una costante"
   ]
  },
  {
   "attachments": {},
   "cell_type": "markdown",
   "metadata": {},
   "source": [
    "**Testo**"
   ]
  },
  {
   "attachments": {},
   "cell_type": "markdown",
   "metadata": {},
   "source": [
    "Sia G = (V,E) un grafo non orientato connesso e con pesi sugli archi. Sia T un minimo albero di copertura per G.\n",
    "\\\n",
    "Provare che T è ancora un minimo albero di copertura anche per il grafo che si ottiene da G incrementando di una stessa costante c il peso degli archi."
   ]
  },
  {
   "attachments": {},
   "cell_type": "markdown",
   "metadata": {},
   "source": [
    "**Soluzione**"
   ]
  },
  {
   "attachments": {},
   "cell_type": "markdown",
   "metadata": {},
   "source": [
    "Tutti gli alberi di copertura hanno esattamente n-1 archi. Una volta che considero una funzione peso w’(e)=w(e)+c, avrò che per ogni albero di copertura w’(T) = w(T)+(n-1)c. Da ciò discende subito che w(T) < w(T”) implica che w’(T’)< w’(T”).\n",
    "\\\n",
    "Questa situazione è abbastanza comune e spesso la cardinalità delle soluzioni ammissibili tutte uguali è una delle condizioni che rendono applicabili algoritmi greedy come quelli che trovano i minimi alberi di copertura."
   ]
  },
  {
   "attachments": {},
   "cell_type": "markdown",
   "metadata": {},
   "source": [
    "# Es 2. Un arco di peso minimo appartiene sempre a un albero di copertura minimo"
   ]
  },
  {
   "attachments": {},
   "cell_type": "markdown",
   "metadata": {},
   "source": [
    "**Testo**"
   ]
  },
  {
   "attachments": {},
   "cell_type": "markdown",
   "metadata": {},
   "source": [
    "Sia G = (V,E) un grafo non orientato connesso e con pesi sugli archi. Sia T un minimo albero di copertura per G.\n",
    "\\\n",
    "Provare che T deve contenere un arco di peso minimo."
   ]
  },
  {
   "attachments": {},
   "cell_type": "markdown",
   "metadata": {},
   "source": [
    "**Soluzione**"
   ]
  },
  {
   "attachments": {},
   "cell_type": "markdown",
   "metadata": {},
   "source": [
    "Supponiamo per assurdo esista un arco di peso minimo (u, v) in G, non scelto nell’albero minimo di copertura T di G.\n",
    "\\\n",
    "Consideriamo un qualsiasi taglio (S, V∖S) di G, con u ∊ S e v ∉ S. Siccome\n",
    "l’albero è connesso, c’è un arco (x, y) che attraversa il taglio e per ipotesi w(x, y) > w(u, v). Rimuovendo (x, y) da T e aggiungendo (u, v) ottengo un albero di supporto T’, tale che w(T’) < w(T).\n",
    "\\\n",
    "Ovviamente si poteva applicare il Teorema dell’arco leggero."
   ]
  },
  {
   "attachments": {},
   "cell_type": "markdown",
   "metadata": {},
   "source": [
    "# Es 3. Se G ha tutti i pesi distinti, allora l'albero minimo di copertura è unico"
   ]
  },
  {
   "attachments": {},
   "cell_type": "markdown",
   "metadata": {},
   "source": [
    "**Testo**"
   ]
  },
  {
   "attachments": {},
   "cell_type": "markdown",
   "metadata": {},
   "source": [
    "Sia G = (V,E) un grafo non orientato connesso e con pesi sugli archi. Sia T un minimo albero di copertura per G.\n",
    "\\\n",
    "Provare che qualora i pesi di G siano tutti distinti, allora T è l’unico minimo albero di copertura. Mostrare che la condizione sul fatto che i pesi siano tutti distinti non è necessaria per l’unicità del minimo albero di copertura."
   ]
  },
  {
   "attachments": {},
   "cell_type": "markdown",
   "metadata": {},
   "source": [
    "**Soluzione**"
   ]
  },
  {
   "attachments": {},
   "cell_type": "markdown",
   "metadata": {},
   "source": [
    "Possiamo applicare il ragionamento precedente iterandolo su tutti gli archi (e quindi i tagli “attraversati”).\n",
    "\\\n",
    "Supponiamo T non sia l’unico albero di copertura e sia (u, v) un arco in T ma non in un altro albero T’. Consideriamo un taglio (S, V∖S) di G, con u ∊ S e v ∉ S e sia (u’, v’) l’arco in T’ che attraversa il taglio. Ma seguendo il ragionamento precedente w(u, v) è minimo tra tutti i pesi degli archi che attraversano il taglio (S, V∖S) e non sono in T (attenzione!) altrimenti costruirei un albero T’’ tale che w(T’’) < w(T)=w(T’).\n",
    "\\\n",
    "Siccome gli archi hanno tutti pesi distinti, (u, v) è l’unico arco che realizza il minimo su ogni taglio che attraversa. Quindi tale arco deve necessariamente stare nell’albero di copertura minimo T.\n",
    "\\\n",
    "Essendo questo ragionamento vero per ogni arco, T è necessariamente l’unico albero di copertura di G."
   ]
  },
  {
   "attachments": {},
   "cell_type": "markdown",
   "metadata": {},
   "source": [
    "# Es 4. L'albero di cammini minimi radicati in s non necessariamente è un albero minimo di copertura"
   ]
  },
  {
   "attachments": {},
   "cell_type": "markdown",
   "metadata": {},
   "source": [
    "**Testo**"
   ]
  },
  {
   "attachments": {},
   "cell_type": "markdown",
   "metadata": {},
   "source": [
    "1. Sia G un grafo non diretto, connesso e pesato. Dimostrare o confutare\n",
    "che un albero dei cammini minimi di G `e anche un albero di copertura di\n",
    "peso minimo.\n",
    "2. Sia G un grafo non diretto, connesso e pesato dove i pesi sono tutti diversi tra loro. Sia T un minimo albero di copertura di G, sia s un nodo e Ts l’albero dei cammini minimi da s verso tutti gli altri nodi di G. Dimostrare oppure fornire un controesempio che Ts e T condividono almeno un arco."
   ]
  },
  {
   "attachments": {},
   "cell_type": "markdown",
   "metadata": {},
   "source": [
    "**Soluzione**"
   ]
  },
  {
   "attachments": {},
   "cell_type": "markdown",
   "metadata": {},
   "source": [
    "1. È facile vedere che questo non è vero. Ancora una volta basta un\n",
    "“triangolo” per trovare un controesempio.\n",
    "\\\n",
    "![img1](img1.png)"
   ]
  },
  {
   "attachments": {},
   "cell_type": "markdown",
   "metadata": {},
   "source": [
    "2. Viceversa il DAG dei cammini minimi ha sempre un arco in comune con l’albero minimo di copertura: è sufficiente applicare il Teorema dell’arco leggero sul taglio ({s}, V∖{s}) [in entrambi i casi si sceglie l’arco di peso minimo]. Oppure applicare l’algoritmo di Prim partendo dalla sorgente s: sceglie lo stesso arco di Dijkstra [e concludere grazie all’unicità dell’albero minimo nel caso di pesi diversi]."
   ]
  }
 ],
 "metadata": {
  "language_info": {
   "name": "python"
  },
  "orig_nbformat": 4
 },
 "nbformat": 4,
 "nbformat_minor": 2
}
