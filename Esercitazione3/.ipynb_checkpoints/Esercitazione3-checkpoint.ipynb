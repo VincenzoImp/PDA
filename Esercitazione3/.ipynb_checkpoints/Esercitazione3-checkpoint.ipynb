{
 "cells": [
  {
   "cell_type": "markdown",
   "metadata": {},
   "source": [
    "# Esercitazione 3"
   ]
  },
  {
   "cell_type": "code",
   "execution_count": 1,
   "metadata": {},
   "outputs": [],
   "source": [
    "import networkx as nx\n",
    "import copy"
   ]
  },
  {
   "cell_type": "code",
   "execution_count": 2,
   "metadata": {},
   "outputs": [],
   "source": [
    "def drawGraph(graph):\n",
    "    G = nx.Graph(graph)\n",
    "    nx.draw_networkx(G, pos=nx.planar_layout(G))\n",
    "\n",
    "def drawDiGraph(di_graph):\n",
    "    G = nx.DiGraph(di_graph)\n",
    "    nx.draw_networkx(G, pos=nx.planar_layout(G))"
   ]
  },
  {
   "cell_type": "markdown",
   "metadata": {},
   "source": [
    "## Es. 1. Classe di grafi per cui la DFS e’ uguale a BFS"
   ]
  },
  {
   "cell_type": "markdown",
   "metadata": {},
   "source": [
    "**Testo**"
   ]
  },
  {
   "cell_type": "markdown",
   "metadata": {},
   "source": [
    "Che caratteristiche deve avere un grafo connesso perche’ le visite DFS e BFS del grafo producano alberi di visita uguali? Motivare la risposta."
   ]
  },
  {
   "cell_type": "markdown",
   "metadata": {},
   "source": [
    "**Soluzione**"
   ]
  },
  {
   "cell_type": "markdown",
   "metadata": {},
   "source": [
    "Le visite DFS e BFS producono alberi di visita uguali se e solo se ogni componente connessa del grafo è un albero. In questo modo, prendendo un qualsiasi nodo come radice, l’albero di visita risultante sarà lo stesso sia se si sta effettuando una DFS che una BFS."
   ]
  },
  {
   "cell_type": "markdown",
   "metadata": {},
   "source": [
    "## Es. 2. Dare un grafo e un albero di cammini minimi che non è il risultato di nessuna BFS"
   ]
  },
  {
   "cell_type": "markdown",
   "metadata": {},
   "source": [
    "**Testo**"
   ]
  },
  {
   "cell_type": "markdown",
   "metadata": {},
   "source": [
    "Dare un grafo e un albero di cammini minimi che non è il risultato di nessuna BFS."
   ]
  },
  {
   "cell_type": "markdown",
   "metadata": {},
   "source": [
    "**Soluzione**"
   ]
  },
  {
   "cell_type": "markdown",
   "metadata": {},
   "source": [
    "Preso in esempio il grafo G, in verde sono disegnate le possibili BFS radicate in s, mentre in rosso (G') e' disegnato un albero di cammini minimi, radicato in s, non ottenibile da nessuna BFS radicata in s.\n",
    "\\\n",
    "![img1](img1.png)"
   ]
  },
  {
   "cell_type": "markdown",
   "metadata": {},
   "source": [
    "## Es. 3. Trovare i nodi equidistanti tra due nodi dati"
   ]
  },
  {
   "cell_type": "markdown",
   "metadata": {},
   "source": [
    "**Testo**"
   ]
  },
  {
   "cell_type": "markdown",
   "metadata": {},
   "source": [
    "Descrivere un algoritmo che, dato un grafo G non diretto e connesso e due suoi nodi u e v, in tempo O(n + m) trova i nodi che hanno la stessa distanza da u e v."
   ]
  },
  {
   "cell_type": "markdown",
   "metadata": {},
   "source": [
    "**Idea**"
   ]
  },
  {
   "cell_type": "markdown",
   "metadata": {},
   "source": [
    "L'idea principale è di utilizzare due BFS, che partono rispettivamente, dal primo e dal secondo nodo dato, calcolando il vettore delle distanze dalla radice della visita. Infine i nodi equidistanti dai due nodi dati avranno la stessa distanza dalla radice in entrambi i vettori delle distanze.\n",
    "\\\n",
    "Un’altra idea meno performante sarebbe quella di effettuare una BFS radicata su ogni possibile nodo ad esclusione (o meno) di u e v. E quindi per ogni BFS controllare se u e v hanno la stessa distanza rispetto al nodo radice della BFS. Se cosi’ fosse, la radice della BFS e’ un nodo equidistante da u e v. Costo O(n(n+m)). \n",
    "\\\n",
    "Riportiamo la soluzione piu’ efficiente."
   ]
  },
  {
   "cell_type": "markdown",
   "metadata": {},
   "source": [
    "**Soluzione**"
   ]
  },
  {
   "cell_type": "code",
   "execution_count": 3,
   "metadata": {},
   "outputs": [],
   "source": [
    "def bfs_dist(root, graph):\n",
    "    queue = [root]\n",
    "    dist = {root : 0}\n",
    "    while queue:\n",
    "        node = queue.pop(0)\n",
    "        for neighbor in graph[node]:\n",
    "            if neighbor not in dist:\n",
    "                queue.append(neighbor)\n",
    "                dist[neighbor] = dist[node] + 1\n",
    "    return dist\n",
    "\n",
    "def find_equidistant_nodes(graph, start_node_1, start_node_2):\n",
    "    dist_1 = bfs_dist(start_node_1, graph)\n",
    "    dist_2 = bfs_dist(start_node_2, graph)\n",
    "    equidistant_nodes = []\n",
    "    for node in graph:\n",
    "        if dist_1[node] == dist_2[node]:\n",
    "            equidistant_nodes.append(node)\n",
    "    return equidistant_nodes"
   ]
  },
  {
   "cell_type": "code",
   "execution_count": 4,
   "metadata": {},
   "outputs": [],
   "source": [
    "graph = {\n",
    "    1 : [3, 4, 5], \n",
    "    2 : [3, 5], \n",
    "    3 : [1, 2, 5], \n",
    "    4 : [1, 5], \n",
    "    5 : [1, 2, 3, 4]\n",
    "}"
   ]
  },
  {
   "cell_type": "code",
   "execution_count": 5,
   "metadata": {},
   "outputs": [
    {
     "data": {
      "image/png": "[encoded data removed]",
      "text/plain": [
       "<Figure size 640x480 with 1 Axes>"
      ]
     },
     "metadata": {},
     "output_type": "display_data"
    }
   ],
   "source": [
    "drawGraph(graph)"
   ]
  },
  {
   "cell_type": "code",
   "execution_count": 6,
   "metadata": {},
   "outputs": [
    {
     "data": {
      "text/plain": [
       "[2, 5]"
      ]
     },
     "execution_count": 6,
     "metadata": {},
     "output_type": "execute_result"
    }
   ],
   "source": [
    "find_equidistant_nodes(graph, 1, 4)"
   ]
  },
  {
   "cell_type": "markdown",
   "metadata": {},
   "source": [
    "# Es. 4. Distanza tra due insiemi di nodi"
   ]
  },
  {
   "cell_type": "markdown",
   "metadata": {},
   "source": [
    "**Testo**"
   ]
  },
  {
   "cell_type": "markdown",
   "metadata": {},
   "source": [
    "Dato un grafo G e due sottoinsiemi V1 e V2 dei suoi vertici si definisce distanza tra V1 e V2 la distanza minima per andare da un nodo in V1 ad un nodo in V2. Nel caso V1 e V2 non sono disgiunti allora il valore 0. \n",
    "Descrivere un algoritmo che, dato un grafo G e i due sottoinsiemi dei vertici V1 e V2 calcola la loro distanza. L’algoritmo deve avere complessita’ O(n + m). \n",
    "\\\n",
    "![img2](img2.png)\n",
    "\\\n",
    "Ad esempio per il grafo G in figura, dove i nodi dell’insieme A sono in verde mentre i nodi dell’insieme B sono in rosso, la distanza tra i due insiemi e’ 2 come evidenziato dal cammino in blu."
   ]
  },
  {
   "cell_type": "markdown",
   "metadata": {},
   "source": [
    "**Idea**"
   ]
  },
  {
   "cell_type": "markdown",
   "metadata": {},
   "source": [
    "E’ possibile inserire nello stack, all’inizio della BFS, tutti i nodi di V1 interpretando la loro distanza a 0. Cosi’ facendo, proseguendo con ma BFS, avremo a distanza 1 tutti i nodi che distano 1 da un qualsiasi nodo in V1, e cosi’ via per tutte le altre distanze. Quindi nel nostro caso basta fermarci non appena troviamo un nodo di V2 durante questa nostra BFS."
   ]
  },
  {
   "cell_type": "markdown",
   "metadata": {},
   "source": [
    "**Soluzione**"
   ]
  },
  {
   "cell_type": "code",
   "execution_count": 7,
   "metadata": {},
   "outputs": [],
   "source": [
    "def distV1V2(graph, V1, V2):\n",
    "   D = {node : -1 for node in graph}\n",
    "   for i in range(len(V1)):\n",
    "       if i in V1:\n",
    "           D[i] = 0\n",
    "   Q = [node for node in graph if node in V1]\n",
    "   while Q != []:\n",
    "       u = Q.pop(0)\n",
    "       if u in V2: return D[u]\n",
    "       for v in graph[u]:\n",
    "           if D[v] == -1:\n",
    "               D[v] = D[u]+1\n",
    "               Q.append(v)\n",
    "   return 0"
   ]
  },
  {
   "cell_type": "markdown",
   "metadata": {},
   "source": [
    "**Esecuzione**"
   ]
  },
  {
   "cell_type": "code",
   "execution_count": 8,
   "metadata": {},
   "outputs": [],
   "source": [
    "graph = {\n",
    "    1 : [5, 6], \n",
    "    2 : [5], \n",
    "    3 : [5, 6], \n",
    "    4 : [6], \n",
    "    5 : [1, 2, 3],\n",
    "    6 : [1, 3, 4]\n",
    "}"
   ]
  },
  {
   "cell_type": "code",
   "execution_count": 9,
   "metadata": {},
   "outputs": [
    {
     "data": {
      "image/png": "[encoded data removed]",
      "text/plain": [
       "<Figure size 640x480 with 1 Axes>"
      ]
     },
     "metadata": {},
     "output_type": "display_data"
    }
   ],
   "source": [
    "drawGraph(graph)"
   ]
  },
  {
   "cell_type": "code",
   "execution_count": 10,
   "metadata": {},
   "outputs": [
    {
     "data": {
      "text/plain": [
       "2"
      ]
     },
     "execution_count": 10,
     "metadata": {},
     "output_type": "execute_result"
    }
   ],
   "source": [
    "V1 = {1, 2}\n",
    "V2 = {3, 4}\n",
    "distV1V2(graph, V1, V2)"
   ]
  },
  {
   "cell_type": "markdown",
   "metadata": {},
   "source": [
    "# Es. 5. Trovare le distanze tra tutti i nodi e la radice in un albero rappresentato come vettore dei padri"
   ]
  },
  {
   "cell_type": "markdown",
   "metadata": {},
   "source": [
    "**Testo**"
   ]
  },
  {
   "cell_type": "markdown",
   "metadata": {},
   "source": [
    "Dato un albero di n nodi rappresentato tramite il vettore dei padri P (per convenzione il padre del nodo radice e’ il nodo stesso), dare lo pseudocodice di un algoritmo che in tempo O(n) calcola la distanza di ogni nodo dalla radice."
   ]
  },
  {
   "cell_type": "code",
   "execution_count": 11,
   "metadata": {},
   "outputs": [],
   "source": [
    "'''\n",
    "Si noti che la funzione dist evita di ricalcolare le distanze già calcolate (perche’ queste \n",
    "ultime sono immagazzinate in Dist) e quindi tutti gli archi dell’albero si percorrono \n",
    "una sola volta, cosa che giustifica il fatto che questo algoritmo sia lineare\n",
    "'''\n",
    "\n",
    "def dist(P, nodo, Dist):\n",
    "    if Dist[nodo] == -1:\n",
    "        if P[nodo-1] == nodo: \n",
    "            Dist[nodo] = 0 \n",
    "        else: \n",
    "            Dist[nodo] = dist(P, P[nodo-1], Dist) + 1      \n",
    "    return Dist[nodo]\n",
    "\n",
    "def distanze(P):\n",
    "    Dist = {nodo : -1 for nodo in range(1, len(P)+1)} \n",
    "    nodi = Dist.keys()\n",
    "    for nodo in nodi:\n",
    "        if Dist[nodo] == -1:\n",
    "            Dist[nodo] = dist(P, nodo, Dist) \n",
    "    return Dist "
   ]
  },
  {
   "cell_type": "markdown",
   "metadata": {},
   "source": [
    "**Esecuzione**"
   ]
  },
  {
   "cell_type": "markdown",
   "metadata": {},
   "source": [
    "![img3](img3.png)"
   ]
  },
  {
   "cell_type": "code",
   "execution_count": 12,
   "metadata": {},
   "outputs": [
    {
     "data": {
      "text/plain": [
       "{1: 1, 2: 0, 3: 2, 4: 1, 5: 2, 6: 3, 7: 3, 8: 3, 9: 2}"
      ]
     },
     "execution_count": 12,
     "metadata": {},
     "output_type": "execute_result"
    }
   ],
   "source": [
    "P = [2, 2, 1, 2, 4, 3, 3, 9, 1] \n",
    "distanze(P)"
   ]
  },
  {
   "cell_type": "markdown",
   "metadata": {},
   "source": [
    "# Es. 6. Trasformare un albero da vettore dei padri in liste di adiacenza"
   ]
  },
  {
   "cell_type": "markdown",
   "metadata": {},
   "source": [
    "**Testo**"
   ]
  },
  {
   "cell_type": "markdown",
   "metadata": {},
   "source": [
    "Scrivere un algoritmo che, dato un grafo in forma di il vettore dei padri, ritorna la rappresentazione dello stesso grafo in forma di liste di adiacenza."
   ]
  },
  {
   "cell_type": "markdown",
   "metadata": {},
   "source": [
    "**Soluzione**"
   ]
  },
  {
   "cell_type": "code",
   "execution_count": 13,
   "metadata": {},
   "outputs": [],
   "source": [
    "def to_adj_list(P):\n",
    "    G = {nodo : [] for nodo in range(1, len(P)+1)}\n",
    "    for nodo in G:\n",
    "        if P[nodo-1] != nodo:\n",
    "            G[P[nodo-1]].append(nodo)\n",
    "    return G"
   ]
  },
  {
   "cell_type": "markdown",
   "metadata": {},
   "source": [
    "**Esecuzione**"
   ]
  },
  {
   "cell_type": "code",
   "execution_count": 14,
   "metadata": {},
   "outputs": [
    {
     "data": {
      "text/plain": [
       "{1: [3, 9], 2: [1, 4], 3: [6, 7], 4: [5], 5: [], 6: [], 7: [], 8: [], 9: [8]}"
      ]
     },
     "execution_count": 14,
     "metadata": {},
     "output_type": "execute_result"
    }
   ],
   "source": [
    "P = [2, 2, 1, 2, 4, 3, 3, 9, 1]\n",
    "to_adj_list(P)"
   ]
  }
 ],
 "metadata": {
  "kernelspec": {
   "display_name": "Python 3 (ipykernel)",
   "language": "python",
   "name": "python3"
  },
  "language_info": {
   "codemirror_mode": {
    "name": "ipython",
    "version": 3
   },
   "file_extension": ".py",
   "mimetype": "text/x-python",
   "name": "python",
   "nbconvert_exporter": "python",
   "pygments_lexer": "ipython3",
   "version": "3.9.16"
  }
 },
 "nbformat": 4,
 "nbformat_minor": 2
}
