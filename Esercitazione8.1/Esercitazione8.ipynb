{
 "cells": [
  {
   "attachments": {},
   "cell_type": "markdown",
   "metadata": {},
   "source": [
    "# Esercitazione 8"
   ]
  },
  {
   "attachments": {},
   "cell_type": "markdown",
   "metadata": {},
   "source": [
    "## Es 1. Calcolo dell'ottimo momento di acquisto/vendita"
   ]
  },
  {
   "attachments": {},
   "cell_type": "markdown",
   "metadata": {},
   "source": [
    "**Testo**"
   ]
  },
  {
   "attachments": {},
   "cell_type": "markdown",
   "metadata": {},
   "source": [
<<<<<<< HEAD
    "In una sequenza S = (a1, a2 ..., an) di interi positivi, l’intero ai rappresenta il prezzo di una certa merce fra i giorni, si vuole sapere qual'e' il giorno i in cui conviene comprare la merce ed il giorno j, con j >= i, in cui conviene rivenderla in modo da massimizzare il profitto. In altre parole siamo interessati a conoscere la coppia (i, j) con i <= j per cui risulta massimo il valore aj - ai. Descrivere un algoritmo che risolve il problema in O(n) tempo."
=======
    "In una sequenza S = (a1, a2 ..., an) di interi positivi, l’intero ai rappresenta il prezzo di una certa merce fra i giorni, si vuole sapere qual’è il giorno i in cui conviene comprare la merce ed il giorno j, con j >= i, in cui conviene rivenderla in modo da massimizzare il profitto. In altre parole siamo interessati a conoscere la coppia (i, j) con i <= j per cui risulta massimo il valore aj - ai. Descrivere un algoritmo che risolve il problema in O(n) tempo."
>>>>>>> d1351962657eccddc4fc4ebe51d94d066c91a4bc
   ]
  },
  {
   "attachments": {},
   "cell_type": "markdown",
   "metadata": {},
   "source": [
    "**Idea**"
   ]
  },
  {
   "attachments": {},
   "cell_type": "markdown",
   "metadata": {},
   "source": [
<<<<<<< HEAD
    "Dato il punto medio m del vettore controllare se V[m] è uguale ad m, in tal caso il punto fisso è stato trovato. Altrimenti:\n",
    "- se V[m] > m allora cerco a sinistra\n",
    "- se V[m] < m allora cerco a destra"
=======
    "Ecco un algoritmo che risolve il problema in tempo lineare O(n):\n",
    "1. Inizializza le variabili max_profit a 0, buy_day e sell_day a 1.\n",
    "2. Per ogni giorno current_day da 2 a n:\n",
    "    - Se il prezzo della merce in current_day è inferiore al prezzo della merce nel giorno buy_day, imposta buy_day su current_day.\n",
    "    - Altrimenti, calcola il profitto potenziale (potential_profit) come la differenza tra il prezzo della merce in current_day e il prezzo della merce nel giorno buy_day. Se potential_profit è maggiore di max_profit e current_day è maggiore o uguale a buy_day, imposta max_profit su potential_profit e sell_day su current_day.\n",
    "3. Restituisci la coppia (buy_day, sell_day) come risultato."
>>>>>>> d1351962657eccddc4fc4ebe51d94d066c91a4bc
   ]
  },
  {
   "attachments": {},
   "cell_type": "markdown",
   "metadata": {},
   "source": [
    "**Soluzione**"
   ]
  },
  {
   "cell_type": "code",
   "execution_count": 1,
   "metadata": {},
   "outputs": [],
   "source": [
<<<<<<< HEAD
    "def acqVen(s):\n",
    "\tn = len(s)\n",
    "\tri, rj = 0, 0\n",
    "\tfor i in range(n):\n",
    "\t\tfor j in range(i+1,n):\n",
    "\t\t\tif s[j] - s[i] > s[rj] - s[ri]:\n",
    "\t\t\t\tri, rj = i, j\n",
    "\treturn ri, rj, s[rj] - s[ri]\n"
=======
    "def find_best_days(prices):\n",
    "    n = len(prices)\n",
    "    max_profit = 0\n",
    "    buy_day = 0\n",
    "    sell_day = 0\n",
    "    for current_day in range(n):\n",
    "        if prices[current_day] < prices[buy_day]:\n",
    "            buy_day = current_day\n",
    "            sell_day = current_day\n",
    "        elif prices[current_day] - prices[buy_day] > max_profit:\n",
    "            max_profit = prices[current_day] - prices[buy_day]\n",
    "            sell_day = current_day\n",
    "    return (buy_day, sell_day)"
   ]
  },
  {
   "attachments": {},
   "cell_type": "markdown",
   "metadata": {},
   "source": [
    "**Esecuzione**"
   ]
  },
  {
   "cell_type": "code",
   "execution_count": 2,
   "metadata": {},
   "outputs": [
    {
     "name": "stdout",
     "output_type": "stream",
     "text": [
      "Giorno di acquisto: 1; Giorno di vendita: 4\n",
      "Giorno di acquisto: 4; Giorno di vendita: 4\n",
      "Giorno di acquisto: 1; Giorno di vendita: 5\n"
     ]
    }
   ],
   "source": [
    "buy_day, sell_day = find_best_days([7, 1, 5, 3, 6, 4])\n",
    "print(\"Giorno di acquisto: {}; Giorno di vendita: {}\".format(buy_day, sell_day))\n",
    "\n",
    "buy_day, sell_day = find_best_days([7, 6, 4, 3, 1])\n",
    "print(\"Giorno di acquisto: {}; Giorno di vendita: {}\".format(buy_day, sell_day))\n",
    "\n",
    "buy_day, sell_day = find_best_days([3, 1, 2, 5, 4, 7])\n",
    "print(\"Giorno di acquisto: {}; Giorno di vendita: {}\".format(buy_day, sell_day))"
   ]
  },
  {
   "attachments": {},
   "cell_type": "markdown",
   "metadata": {},
   "source": [
    "# Es 2. Massima sotto-matrice di tutti 1 in una matrice di 0 e 1"
   ]
  },
  {
   "attachments": {},
   "cell_type": "markdown",
   "metadata": {},
   "source": [
    "**Testo**"
   ]
  },
  {
   "attachments": {},
   "cell_type": "markdown",
   "metadata": {},
   "source": [
    "Data una matrice quadrata binaria M di dimensione n x n si vuole sapere qual’è il massimo m per cui la matrice quadrata m x m di soli uni risulta sottomatrice di M. Descrivere un algoritmo che, data la matrice M, risolve il problema in tempo O(n^3)."
   ]
  },
  {
   "attachments": {},
   "cell_type": "markdown",
   "metadata": {},
   "source": [
    "**Soluzione**"
   ]
  },
  {
   "cell_type": "code",
   "execution_count": 3,
   "metadata": {},
   "outputs": [],
   "source": [
    "def matriceUni(M):\n",
    "\tm = len(M)\n",
    "\tU = [[y for y in x] for x in M]\n",
    "\tri, rj = -1, -1\n",
    "\t# inizializzazione dmax: se sono tutti 0 in M, dmax = 0 altrimenti 1\n",
    "\tdmax = 0\n",
    "\tfor i in range(m):\n",
    "\t\tfor j in range(m):\n",
    "\t\t\tif U[i][j]:\n",
    "\t\t\t\tdmax, ri, rj = 1, i, j\n",
    "\t# si comincia a vedere le matrici di lato 2\n",
    "\td = 2\n",
    "\twhile d == dmax + 1:\n",
    "\t\t# INV: U[i][j] == dmax, se M[i][j] e' l'angolo in alto a sinistra\n",
    "\t\t# di una matrice di lato dmax di tutti 1\n",
    "\t\tfor i in range(0,m-d+1):\n",
    "\t\t\tfor j in range(0,m-d+1):\n",
    "\t\t\t\tif U[i][j]>0 and U[i+1][j]>0 and U[i][j+1]>0 and U[i+1][j+1]>0:\n",
    "\t\t\t\t# se i 4 elementi in alto a sinistra sono tutti positivi\n",
    "\t\t\t\t# ci sono 4 matrici di lato dmax-1 di tutti 1\n",
    "\t\t\t\t# quindi c'e' una matrice di lato dmax di tutti 1\t\n",
    "\t\t\t\t\tdmax, U[i][j], ri, rj = d, d, i, j\n",
    "\t\t\t\telse:\n",
    "\t\t\t\t\tU[i][j] = 0\t\n",
    "\t\t# notare che alla fine U[i][j] e' il lato della piu' grande \n",
    "\t\t# matrice di tutti uno con i,j come angolo in alto a sinistra \n",
    "\t\td = d+1\n",
    "\treturn dmax, ri, rj"
   ]
  },
  {
   "attachments": {},
   "cell_type": "markdown",
   "metadata": {},
   "source": [
    "**Esecuzione**"
>>>>>>> d1351962657eccddc4fc4ebe51d94d066c91a4bc
   ]
  },
  {
   "cell_type": "code",
   "execution_count": 4,
   "metadata": {},
<<<<<<< HEAD
   "outputs": [],
   "source": [
    "def myMax(s, inf, sup):\n",
    "\tm = inf\n",
    "\tfor i in range(inf+1, sup):\n",
    "\t\tif s[i] > s[m]:\n",
    "\t\t\tm = i\n",
    "\treturn m\n",
    "\n",
    "def myMin(s, inf, sup):\n",
    "\tm = inf\n",
    "\tfor i in range(inf+1, sup):\n",
    "\t\tif s[i] < s[m]:\n",
    "\t\t\tm = i\n",
    "\treturn m\n",
    "\t\t\t\n",
    "def acqVenDetImp(s, inf, sup):\n",
    "\tif sup == inf + 1:\n",
    "\t\treturn inf, inf, 0\n",
    "\tm = (inf + sup) // 2\n",
    "\til, jl, ml = acqVenDetImp(s, inf, m)\n",
    "\tir, jr, mr = acqVenDetImp(s, m, sup)\n",
    "\t# massimo guadagno \"a cavallo\" della divisione\n",
    "\tic = myMin(s, inf, m)\n",
    "\tjc = myMax(s, m, sup)\n",
    "\tmc = s[jc] - s[ic]\n",
    "\tif ml >= mr and ml >= mc:\n",
    "\t\treturn il, jl, ml \n",
    "\telif mr > ml and mr >= mc:\n",
    "\t\treturn ir, jr, mr\n",
    "\telse:\n",
    "\t\treturn ic, jc, mc"
   ]
  },
  {
   "cell_type": "code",
   "execution_count": 5,
   "metadata": {},
=======
>>>>>>> d1351962657eccddc4fc4ebe51d94d066c91a4bc
   "outputs": [
    {
     "name": "stdout",
     "output_type": "stream",
     "text": [
<<<<<<< HEAD
      "[100, 98, 97, 104, 91, 102]\n",
      "(4, 5, 11)\n",
      "(4, 5, 11)\n"
=======
      "(3, 1, 0)\n",
      "(1, 1, 2)\n",
      "(0, -1, -1)\n",
      "(3, 1, 1)\n",
      "(4, 0, 0)\n"
>>>>>>> d1351962657eccddc4fc4ebe51d94d066c91a4bc
     ]
    }
   ],
   "source": [
<<<<<<< HEAD
    "s = [100, 98, 97, 104, 91, 102]\n",
    "print(s)\n",
    "print(acqVen(s))\n",
    "print(acqVenDetImp(s, 0, len(s)))"
   ]
  },
  {
   "cell_type": "code",
   "execution_count": 9,
   "metadata": {},
   "outputs": [
    {
     "name": "stdout",
     "output_type": "stream",
     "text": [
      "Compra il giorno 5 e vendi il giorno 4 per massimizzare il profitto.\n",
      "Profitto massimo: 7\n"
     ]
    }
   ],
   "source": [
    "def acqVenDetImpPD(s, inf, sup):\n",
    "\tif sup == inf + 1:\n",
    "\t\treturn inf, inf, inf, inf, 0\n",
    "\tm = (inf + sup) // 2\n",
    "\til, jl, iminl, imaxl, ml = acqVenDetImpPD(s, inf, m)\n",
    "\tir, jr, iminr, imaxr, mr = acqVenDetImpPD(s, m, sup)\n",
    "\tmc = s[imaxr] - s[iminl]\n",
    "\tif s[imaxr] > s[imaxl]:\n",
    "\t\timax = imaxr\n",
    "\telse:\n",
    "\t\timax = imaxl\n",
    "\tif s[iminr] < s[iminl]:\n",
    "\t\timin = iminr\n",
    "\telse:\n",
    "\t\timin = iminl\n",
    "\tif ml >= mr and ml >= mc:\n",
    "\t\treturn il, jl, imin, imax, ml \n",
    "\telif mr > ml and mr >= mc:\n",
    "\t\treturn ir, jr, imin, imax, mr\n",
    "\telse:\n",
    "\t\treturn iminl, imaxr, imin, imax, mc\n",
    "\n",
    "# Esempio di utilizzo\n",
    "prices = [100, 98, 97, 104, 91, 102]\n",
    "ri, rj, imin, imax, max_profit = acqVenDetImpPD(prices, 0, len(prices)-1)\n",
    "print(f\"Compra il giorno {imin+1} e vendi il giorno {imax+1} per massimizzare il profitto.\")\n",
    "print(f\"Profitto massimo: {max_profit}\")"
   ]
  },
  {
   "cell_type": "code",
   "execution_count": 7,
   "metadata": {},
   "outputs": [
    {
     "name": "stdout",
     "output_type": "stream",
     "text": [
      "(4, 5, 4, 3, 11)\n"
     ]
    }
   ],
   "source": [
    "print(acqVenDetImpPD(s, 0, len(s)))"
   ]
  },
  {
   "cell_type": "code",
   "execution_count": 6,
   "metadata": {},
   "outputs": [],
   "source": [
    "def utilfixpoint(V, start, end):\n",
    "    if start > end:\n",
    "        return False\n",
    "    m = (start + end) // 2\n",
    "    if V[m] == m:\n",
    "        return True\n",
    "    elif V[m] > m:\n",
    "        return utilfixpoint(V, start, m - 1)\n",
    "    else:\n",
    "        return utilfixpoint(V, m + 1, end)\n",
    "    \n",
    "def fixpoint(V):\n",
    "    return utilfixpoint(V, 0, len(V) - 1)"
   ]
  },
  {
   "attachments": {},
   "cell_type": "markdown",
   "metadata": {},
   "source": [
    "**Esecuzione**"
   ]
  },
  {
   "cell_type": "code",
   "execution_count": 5,
   "metadata": {},
   "outputs": [
    {
     "name": "stdout",
     "output_type": "stream",
     "text": [
      "True\n",
      "True\n",
      "False\n"
     ]
    }
   ],
   "source": [
    "V = [-10, -5, 0, 3, 7]\n",
    "print(fixpoint(V))\n",
    "V = [0, 2, 5, 8, 17]\n",
    "print(fixpoint(V))\n",
    "V = [-10, -5, 3, 4, 7, 9]\n",
    "print(fixpoint(V))"
   ]
  },
  {
   "attachments": {},
   "cell_type": "markdown",
   "metadata": {},
   "source": [
    "# Es 2. Trovare gli zeri di un vettore continuo"
   ]
  },
  {
   "attachments": {},
   "cell_type": "markdown",
   "metadata": {},
   "source": [
    "**Testo**"
   ]
  },
  {
   "attachments": {},
   "cell_type": "markdown",
   "metadata": {},
   "source": [
    "Sia V un vettore di n interi. Si dice che V è continuo se per ogni i = 1, 2, ..., n-1, |V[i+1]-V[i]| <= 1. Si dice zero del vettore un indice k tale che V[k] = 0.\n",
    "\\\n",
    "Progettare un algoritmo che, dato un vettore V di n >= 2 interi continuo e tale che V[1] < 0 e V[n] > 0, trovi uno zero in O(log n) tempo."
   ]
  },
  {
   "attachments": {},
   "cell_type": "markdown",
   "metadata": {},
   "source": [
    "**Idea**"
   ]
  },
  {
   "attachments": {},
   "cell_type": "markdown",
   "metadata": {},
   "source": [
    "Per risolvere questo problema in maniera ricorsiva, possiamo utilizzare un algoritmo di ricerca binaria ricorsivo. L'idea è quella di passare l'intervallo di ricerca come parametro della funzione, e poi chiamare la funzione stessa ricorsivamente dimezzando l'intervallo di ricerca.\n",
    "\\\n",
    "Inizialmente, l'intervallo di ricerca è [l, r] dove l = 0 e r = n-1. Ad ogni chiamata ricorsiva, calcoliamo l'indice medio m = (l+r)//2 e verifichiamo se V[m] è uguale a m. Se V[m] > m, allora lo zero si trova nell'intervallo [l, m-1], altrimenti si trova nell'intervallo [m+1, r]. Continuiamo a dimezzare l'intervallo di ricerca finché troviamo lo zero o fino a quando l'intervallo diventa vuoto."
   ]
  },
  {
   "attachments": {},
   "cell_type": "markdown",
   "metadata": {},
   "source": [
    "**Soluzione**"
   ]
  },
  {
   "cell_type": "code",
   "execution_count": 12,
   "metadata": {},
   "outputs": [],
   "source": [
    "def util_find_zero(V, start, end):\n",
    "    if start > end:\n",
    "        return None\n",
    "    m = (start + end) // 2\n",
    "    if V[m] == 0:\n",
    "        return m\n",
    "    elif V[m] > 0:\n",
    "        return util_find_zero(V, start, m - 1)\n",
    "    else:\n",
    "        return util_find_zero(V, m + 1, end)\n",
    "    \n",
    "def find_zero(V):\n",
    "    return util_find_zero(V, 0, len(V) - 1)"
   ]
  },
  {
   "attachments": {},
   "cell_type": "markdown",
   "metadata": {},
   "source": [
    "**Esecuzione**"
   ]
  },
  {
   "cell_type": "code",
   "execution_count": 31,
   "metadata": {},
   "outputs": [
    {
     "name": "stdout",
     "output_type": "stream",
     "text": [
      "3\n",
      "1\n"
     ]
    }
   ],
   "source": [
    "V = [-3, -2, -1, 0, 1, 2, 3]\n",
    "print(find_zero(V))\n",
    "V = [-1, 0, 0, 1]\n",
    "print(find_zero(V))"
   ]
  },
  {
   "attachments": {},
   "cell_type": "markdown",
   "metadata": {},
   "source": [
    "# Es 3. Algoritmo per determinare la radice quadrata intera di n in tempo"
   ]
  },
  {
   "attachments": {},
   "cell_type": "markdown",
   "metadata": {},
   "source": [
    "**Testo**"
   ]
  },
  {
   "attachments": {},
   "cell_type": "markdown",
   "metadata": {},
   "source": [
    "Progettare un algoritmo che, dato un intero n, calcoli l’intero inferiore della radice di n in O(log n) tempo, usando solo operazioni aritmetiche."
   ]
  },
  {
   "attachments": {},
   "cell_type": "markdown",
   "metadata": {},
   "source": [
    "**Idea**"
   ]
  },
  {
   "attachments": {},
   "cell_type": "markdown",
   "metadata": {},
   "source": [
    "Si calcola la radice quadrata intera di n come segue:\n",
    "- Se n è inferiore a 2, restituire n (poiché la radice quadrata di 0 o 1 è 0 o 1).\n",
    "- Altrimenti, calcolare la radice quadrata intera di n // 4 in modo ricorsivo e moltiplicarla per 2 per ottenere un valore iniziale per la parte intera della radice quadrata di n.\n",
    "- Verificare se left o right è la parte intera della radice quadrata di n, dove left è il valore iniziale moltiplicato per 2 e right è left + 1.\n",
    "- Se right * right è maggiore di n, restituire left. Altrimenti, restituire right."
   ]
  },
  {
   "attachments": {},
   "cell_type": "markdown",
   "metadata": {},
   "source": [
    "**Soluzione**"
   ]
  },
  {
   "cell_type": "code",
   "execution_count": 30,
   "metadata": {},
   "outputs": [],
   "source": [
    "def sqrt_int(n):\n",
    "    if n < 2:\n",
    "        return n\n",
    "    else:\n",
    "        left = sqrt_int(n // 4) * 2\n",
    "        right = left + 1\n",
    "        if right * right > n:\n",
    "            return left\n",
    "        else:\n",
    "            return right"
   ]
  },
  {
   "attachments": {},
   "cell_type": "markdown",
   "metadata": {},
   "source": [
    "**Esecuzione**"
   ]
  },
  {
   "cell_type": "code",
   "execution_count": 34,
   "metadata": {},
   "outputs": [
    {
     "name": "stdout",
     "output_type": "stream",
     "text": [
      "3\n",
      "9\n",
      "31\n",
      "32\n",
      "32\n"
     ]
    }
   ],
   "source": [
    "print(sqrt_int(9))\n",
    "print(sqrt_int(81))\n",
    "print(sqrt_int(1000))\n",
    "print(sqrt_int(1024))\n",
    "print(sqrt_int(1025))"
   ]
  },
  {
   "attachments": {},
   "cell_type": "markdown",
   "metadata": {},
   "source": [
    "# Es 4. Trovare il massimo in un vettore ordinato shiftato di k posizioni"
   ]
  },
  {
   "attachments": {},
   "cell_type": "markdown",
   "metadata": {},
   "source": [
    "**Testo**"
   ]
  },
  {
   "attachments": {},
   "cell_type": "markdown",
   "metadata": {},
   "source": [
    "Si supponga di avere in input un vettore ordinato di n interi il cui contenuto è stato ruotato di k posizioni. Supponendo di conoscere solo n, progettare un algoritmo che restituisca l’elemento massimo del vettore in O(log n) tempo."
   ]
  },
  {
   "attachments": {},
   "cell_type": "markdown",
   "metadata": {},
   "source": [
    "**Idea**"
   ]
  },
  {
   "attachments": {},
   "cell_type": "markdown",
   "metadata": {},
   "source": [
    "L'idea è di trovare il punto di rotazione del vettore, ovvero l'indice in cui il vettore viene spezzato e riordinato, e poi confrontare il primo elemento con l'ultimo elemento del vettore per determinare quale è il massimo."
   ]
  },
  {
   "attachments": {},
   "cell_type": "markdown",
   "metadata": {},
   "source": [
    "**Soluzione**"
   ]
  },
  {
   "cell_type": "code",
   "execution_count": 43,
   "metadata": {},
   "outputs": [],
   "source": [
    "def util_findMax(arr, low, high):\n",
    "    # If there is only one element left\n",
    "    if (high == low):\n",
    "        return arr[low]\n",
    "    # Find mid\n",
    "    mid = low + (high - low) // 2\n",
    "    # Check if mid reaches 0 ,it is greater than next element or not\n",
    "    if(mid==0 and arr[mid]>arr[mid+1]):\n",
    "          return arr[mid]\n",
    "    # Check if mid itself is maximum element\n",
    "    if (mid < high and arr[mid + 1] < arr[mid] and mid>0 and arr[mid]>arr[mid-1]):\n",
    "        return arr[mid]\n",
    "    # Decide whether we need to go to the left half or the right half\n",
    "    if (arr[low] > arr[mid]):\n",
    "        return util_findMax(arr, low, mid - 1)\n",
    "    else:\n",
    "        return util_findMax(arr, mid + 1, high)\n",
    "    \n",
    "def findMax(arr):\n",
    "    return util_findMax(arr, 0, len(arr) - 1)\n",
    "    "
   ]
  },
  {
   "cell_type": "code",
   "execution_count": 47,
   "metadata": {},
   "outputs": [
    {
     "name": "stdout",
     "output_type": "stream",
     "text": [
      "7\n",
      "6\n"
     ]
    }
   ],
   "source": [
    "V = [4, 5, 6, 7, 1, 2, 3]\n",
    "print(findMax(V))\n",
    "V = [6, 5, 4, 3, 2, 1, 0]\n",
    "print(findMax(V))"
   ]
  },
  {
   "attachments": {},
   "cell_type": "markdown",
   "metadata": {},
   "source": [
    "# Es. 5. Ricerca binaria \"senza conoscere la lunghezza\""
   ]
  },
  {
   "attachments": {},
   "cell_type": "markdown",
   "metadata": {},
   "source": [
    "**Testo**"
   ]
  },
  {
   "attachments": {},
   "cell_type": "markdown",
   "metadata": {},
   "source": [
    "Dato un vettore ordinato di interi V ed un intero x vogliamo scoprire se x è presente tra gli elementi del vettore V.\n",
    "\\\n",
    "Non è noto il numero n di elementi del vettore ma si dispone di una procedura SUB che, presi due interi i e y, restituisce -1 se il vettore V ha meno di i elementi, 0 se V[i] != y e 1 se V[i] = y.\n",
    "Assumendo che l’esecuzione della procedura SUB richiede tempo O(1), progettare un algoritmo che risolve il problema in tempo O(log n)."
   ]
  },
  {
   "attachments": {},
   "cell_type": "markdown",
   "metadata": {},
   "source": [
    "**Idea**"
   ]
  },
  {
   "attachments": {},
   "cell_type": "markdown",
   "metadata": {},
   "source": []
  },
  {
   "attachments": {},
   "cell_type": "markdown",
   "metadata": {},
   "source": [
    "**Soluzione**"
   ]
  },
  {
   "cell_type": "code",
   "execution_count": null,
   "metadata": {},
   "outputs": [],
   "source": []
  },
  {
   "attachments": {},
   "cell_type": "markdown",
   "metadata": {},
   "source": [
    "**Esecuzione**"
   ]
  },
  {
   "cell_type": "code",
   "execution_count": null,
   "metadata": {},
   "outputs": [],
   "source": []
  },
  {
   "attachments": {},
   "cell_type": "markdown",
   "metadata": {},
   "source": [
    "# Es. 6. Contare il numero di inversioni in un vettore"
   ]
  },
  {
   "attachments": {},
   "cell_type": "markdown",
   "metadata": {},
   "source": [
    "**Testo**"
   ]
  },
  {
   "attachments": {},
   "cell_type": "markdown",
   "metadata": {},
   "source": []
  },
  {
   "attachments": {},
   "cell_type": "markdown",
   "metadata": {},
   "source": [
    "**Idea**"
   ]
  },
  {
   "attachments": {},
   "cell_type": "markdown",
   "metadata": {},
   "source": []
  },
  {
   "attachments": {},
   "cell_type": "markdown",
   "metadata": {},
   "source": [
    "**Soluzione**"
   ]
  },
  {
   "cell_type": "code",
   "execution_count": null,
   "metadata": {},
   "outputs": [],
   "source": []
  },
  {
   "attachments": {},
   "cell_type": "markdown",
   "metadata": {},
   "source": [
    "**Esecuzione**"
   ]
  },
  {
   "cell_type": "code",
   "execution_count": null,
   "metadata": {},
   "outputs": [],
   "source": []
  },
  {
   "attachments": {},
   "cell_type": "markdown",
   "metadata": {},
   "source": [
    "# Es. 7. Algoritmo che determina il sottovettore di lunghezza massima di spessore al più C"
   ]
  },
  {
   "attachments": {},
   "cell_type": "markdown",
   "metadata": {},
   "source": [
    "**Testo**"
   ]
  },
  {
   "attachments": {},
   "cell_type": "markdown",
   "metadata": {},
   "source": [
    "In un vettore V di interi si dice spessore del vettore la differenza tra il massimo e il minimo del vettore. Progettare un algoritmo che, preso un vettore V di n interi ed un intero C, trovi un sottovettore (una sequenza di elementi consecutivi del vettore) di, lunghezza massima tra quelli di spessore al più C. La complessità dell’algoritmo deve essere O(n log n)."
   ]
  },
  {
   "attachments": {},
   "cell_type": "markdown",
   "metadata": {},
   "source": [
    "**Idea**"
   ]
  },
  {
   "attachments": {},
   "cell_type": "markdown",
   "metadata": {},
   "source": []
  },
  {
   "attachments": {},
   "cell_type": "markdown",
   "metadata": {},
   "source": [
    "**Soluzione**"
   ]
  },
  {
   "cell_type": "code",
   "execution_count": null,
   "metadata": {},
   "outputs": [],
   "source": []
  },
  {
   "attachments": {},
   "cell_type": "markdown",
   "metadata": {},
   "source": [
    "**Esecuzione**"
   ]
  },
  {
   "cell_type": "code",
   "execution_count": null,
   "metadata": {},
   "outputs": [],
   "source": []
=======
    "M = [\n",
    "\t[1,0,1,1,1],\n",
    "\t[1,1,1,1,1],\n",
    "\t[1,1,1,0,1],\n",
    "\t[1,1,1,1,1],\n",
    "\t[1,1,0,1,1]]\n",
    "print(matriceUni(M))\n",
    "M = [\n",
    "\t[0,0,0,0,0],\n",
    "\t[0,0,1,0,0],\n",
    "\t[0,0,0,0,0],\n",
    "\t[0,0,0,0,0],\n",
    "\t[0,0,0,0,0]]\n",
    "print(matriceUni(M))\n",
    "M = [\n",
    "\t[0,0,0,0,0],\n",
    "\t[0,0,0,0,0],\n",
    "\t[0,0,0,0,0],\n",
    "\t[0,0,0,0,0],\n",
    "\t[0,0,0,0,0]]\n",
    "print(matriceUni(M))\n",
    "M = [\n",
    "\t[1,1,0,0],\n",
    "\t[1,1,1,1],\n",
    "\t[0,1,1,1],\n",
    "\t[0,1,1,1]]\n",
    "print(matriceUni(M))\n",
    "M = [\n",
    "\t[1,1,1,1],\n",
    "\t[1,1,1,1],\n",
    "\t[1,1,1,1],\n",
    "\t[1,1,1,1]]\n",
    "print(matriceUni(M))"
   ]
>>>>>>> d1351962657eccddc4fc4ebe51d94d066c91a4bc
  }
 ],
 "metadata": {
  "kernelspec": {
   "display_name": "stable",
   "language": "python",
   "name": "python3"
  },
  "language_info": {
   "codemirror_mode": {
    "name": "ipython",
    "version": 3
   },
   "file_extension": ".py",
   "mimetype": "text/x-python",
   "name": "python",
   "nbconvert_exporter": "python",
   "pygments_lexer": "ipython3",
   "version": "3.9.16"
  },
  "orig_nbformat": 4
 },
 "nbformat": 4,
 "nbformat_minor": 2
}
